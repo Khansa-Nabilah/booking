{
  "cells": [
    {
      "cell_type": "code",
      "execution_count": 1,
      "metadata": {
        "id": "WLkQco8m40lc"
      },
      "outputs": [],
      "source": [
        "import numpy as np\n",
        "import pandas as pd\n",
        "import pickle as pkl\n",
        "import matplotlib.pyplot as plt"
      ]
    },
    {
      "cell_type": "code",
      "execution_count": 2,
      "metadata": {
        "colab": {
          "base_uri": "https://localhost:8080/",
          "height": 226
        },
        "id": "68AfNHwh5AMr",
        "outputId": "91e2a568-ec3d-4396-f7c8-ec3a5e60b400"
      },
      "outputs": [
        {
          "data": {
            "text/html": [
              "<div>\n",
              "<style scoped>\n",
              "    .dataframe tbody tr th:only-of-type {\n",
              "        vertical-align: middle;\n",
              "    }\n",
              "\n",
              "    .dataframe tbody tr th {\n",
              "        vertical-align: top;\n",
              "    }\n",
              "\n",
              "    .dataframe thead th {\n",
              "        text-align: right;\n",
              "    }\n",
              "</style>\n",
              "<table border=\"1\" class=\"dataframe\">\n",
              "  <thead>\n",
              "    <tr style=\"text-align: right;\">\n",
              "      <th></th>\n",
              "      <th>Booking_ID</th>\n",
              "      <th>no_of_adults</th>\n",
              "      <th>no_of_children</th>\n",
              "      <th>no_of_weekend_nights</th>\n",
              "      <th>no_of_week_nights</th>\n",
              "      <th>type_of_meal_plan</th>\n",
              "      <th>required_car_parking_space</th>\n",
              "      <th>room_type_reserved</th>\n",
              "      <th>lead_time</th>\n",
              "      <th>arrival_year</th>\n",
              "      <th>arrival_month</th>\n",
              "      <th>arrival_date</th>\n",
              "      <th>market_segment_type</th>\n",
              "      <th>repeated_guest</th>\n",
              "      <th>no_of_previous_cancellations</th>\n",
              "      <th>no_of_previous_bookings_not_canceled</th>\n",
              "      <th>avg_price_per_room</th>\n",
              "      <th>no_of_special_requests</th>\n",
              "      <th>booking_status</th>\n",
              "    </tr>\n",
              "  </thead>\n",
              "  <tbody>\n",
              "    <tr>\n",
              "      <th>0</th>\n",
              "      <td>INN00001</td>\n",
              "      <td>2</td>\n",
              "      <td>0</td>\n",
              "      <td>1</td>\n",
              "      <td>2</td>\n",
              "      <td>Meal Plan 1</td>\n",
              "      <td>0.0</td>\n",
              "      <td>Room_Type 1</td>\n",
              "      <td>224</td>\n",
              "      <td>2017</td>\n",
              "      <td>10</td>\n",
              "      <td>2</td>\n",
              "      <td>Offline</td>\n",
              "      <td>0</td>\n",
              "      <td>0</td>\n",
              "      <td>0</td>\n",
              "      <td>65.00</td>\n",
              "      <td>0</td>\n",
              "      <td>Not_Canceled</td>\n",
              "    </tr>\n",
              "    <tr>\n",
              "      <th>1</th>\n",
              "      <td>INN00002</td>\n",
              "      <td>2</td>\n",
              "      <td>0</td>\n",
              "      <td>2</td>\n",
              "      <td>3</td>\n",
              "      <td>Not Selected</td>\n",
              "      <td>0.0</td>\n",
              "      <td>Room_Type 1</td>\n",
              "      <td>5</td>\n",
              "      <td>2018</td>\n",
              "      <td>11</td>\n",
              "      <td>6</td>\n",
              "      <td>Online</td>\n",
              "      <td>0</td>\n",
              "      <td>0</td>\n",
              "      <td>0</td>\n",
              "      <td>106.68</td>\n",
              "      <td>1</td>\n",
              "      <td>Not_Canceled</td>\n",
              "    </tr>\n",
              "    <tr>\n",
              "      <th>2</th>\n",
              "      <td>INN00003</td>\n",
              "      <td>1</td>\n",
              "      <td>0</td>\n",
              "      <td>2</td>\n",
              "      <td>1</td>\n",
              "      <td>Meal Plan 1</td>\n",
              "      <td>0.0</td>\n",
              "      <td>Room_Type 1</td>\n",
              "      <td>1</td>\n",
              "      <td>2018</td>\n",
              "      <td>2</td>\n",
              "      <td>28</td>\n",
              "      <td>Online</td>\n",
              "      <td>0</td>\n",
              "      <td>0</td>\n",
              "      <td>0</td>\n",
              "      <td>60.00</td>\n",
              "      <td>0</td>\n",
              "      <td>Canceled</td>\n",
              "    </tr>\n",
              "    <tr>\n",
              "      <th>3</th>\n",
              "      <td>INN00004</td>\n",
              "      <td>2</td>\n",
              "      <td>0</td>\n",
              "      <td>0</td>\n",
              "      <td>2</td>\n",
              "      <td>Meal Plan 1</td>\n",
              "      <td>0.0</td>\n",
              "      <td>Room_Type 1</td>\n",
              "      <td>211</td>\n",
              "      <td>2018</td>\n",
              "      <td>5</td>\n",
              "      <td>20</td>\n",
              "      <td>Online</td>\n",
              "      <td>0</td>\n",
              "      <td>0</td>\n",
              "      <td>0</td>\n",
              "      <td>100.00</td>\n",
              "      <td>0</td>\n",
              "      <td>Canceled</td>\n",
              "    </tr>\n",
              "    <tr>\n",
              "      <th>4</th>\n",
              "      <td>INN00005</td>\n",
              "      <td>2</td>\n",
              "      <td>0</td>\n",
              "      <td>1</td>\n",
              "      <td>1</td>\n",
              "      <td>Not Selected</td>\n",
              "      <td>0.0</td>\n",
              "      <td>Room_Type 1</td>\n",
              "      <td>48</td>\n",
              "      <td>2018</td>\n",
              "      <td>4</td>\n",
              "      <td>11</td>\n",
              "      <td>Online</td>\n",
              "      <td>0</td>\n",
              "      <td>0</td>\n",
              "      <td>0</td>\n",
              "      <td>94.50</td>\n",
              "      <td>0</td>\n",
              "      <td>Canceled</td>\n",
              "    </tr>\n",
              "  </tbody>\n",
              "</table>\n",
              "</div>"
            ],
            "text/plain": [
              "  Booking_ID  no_of_adults  no_of_children  no_of_weekend_nights  \\\n",
              "0   INN00001             2               0                     1   \n",
              "1   INN00002             2               0                     2   \n",
              "2   INN00003             1               0                     2   \n",
              "3   INN00004             2               0                     0   \n",
              "4   INN00005             2               0                     1   \n",
              "\n",
              "   no_of_week_nights type_of_meal_plan  required_car_parking_space  \\\n",
              "0                  2       Meal Plan 1                         0.0   \n",
              "1                  3      Not Selected                         0.0   \n",
              "2                  1       Meal Plan 1                         0.0   \n",
              "3                  2       Meal Plan 1                         0.0   \n",
              "4                  1      Not Selected                         0.0   \n",
              "\n",
              "  room_type_reserved  lead_time  arrival_year  arrival_month  arrival_date  \\\n",
              "0        Room_Type 1        224          2017             10             2   \n",
              "1        Room_Type 1          5          2018             11             6   \n",
              "2        Room_Type 1          1          2018              2            28   \n",
              "3        Room_Type 1        211          2018              5            20   \n",
              "4        Room_Type 1         48          2018              4            11   \n",
              "\n",
              "  market_segment_type  repeated_guest  no_of_previous_cancellations  \\\n",
              "0             Offline               0                             0   \n",
              "1              Online               0                             0   \n",
              "2              Online               0                             0   \n",
              "3              Online               0                             0   \n",
              "4              Online               0                             0   \n",
              "\n",
              "   no_of_previous_bookings_not_canceled  avg_price_per_room  \\\n",
              "0                                     0               65.00   \n",
              "1                                     0              106.68   \n",
              "2                                     0               60.00   \n",
              "3                                     0              100.00   \n",
              "4                                     0               94.50   \n",
              "\n",
              "   no_of_special_requests booking_status  \n",
              "0                       0   Not_Canceled  \n",
              "1                       1   Not_Canceled  \n",
              "2                       0       Canceled  \n",
              "3                       0       Canceled  \n",
              "4                       0       Canceled  "
            ]
          },
          "execution_count": 2,
          "metadata": {},
          "output_type": "execute_result"
        }
      ],
      "source": [
        "df = pd.read_csv(\"Dataset_B_hotel.csv\")\n",
        "df.head()"
      ]
    },
    {
      "cell_type": "code",
      "execution_count": 3,
      "metadata": {
        "colab": {
          "base_uri": "https://localhost:8080/",
          "height": 226
        },
        "id": "uDDRhrkM5Ztt",
        "outputId": "ccd3a65f-e1de-4f75-d45a-2e58edc1d1bb"
      },
      "outputs": [
        {
          "data": {
            "text/html": [
              "<div>\n",
              "<style scoped>\n",
              "    .dataframe tbody tr th:only-of-type {\n",
              "        vertical-align: middle;\n",
              "    }\n",
              "\n",
              "    .dataframe tbody tr th {\n",
              "        vertical-align: top;\n",
              "    }\n",
              "\n",
              "    .dataframe thead th {\n",
              "        text-align: right;\n",
              "    }\n",
              "</style>\n",
              "<table border=\"1\" class=\"dataframe\">\n",
              "  <thead>\n",
              "    <tr style=\"text-align: right;\">\n",
              "      <th></th>\n",
              "      <th>Booking_ID</th>\n",
              "      <th>no_of_adults</th>\n",
              "      <th>no_of_children</th>\n",
              "      <th>no_of_weekend_nights</th>\n",
              "      <th>no_of_week_nights</th>\n",
              "      <th>type_of_meal_plan</th>\n",
              "      <th>required_car_parking_space</th>\n",
              "      <th>room_type_reserved</th>\n",
              "      <th>lead_time</th>\n",
              "      <th>arrival_year</th>\n",
              "      <th>arrival_month</th>\n",
              "      <th>arrival_date</th>\n",
              "      <th>market_segment_type</th>\n",
              "      <th>repeated_guest</th>\n",
              "      <th>no_of_previous_cancellations</th>\n",
              "      <th>no_of_previous_bookings_not_canceled</th>\n",
              "      <th>avg_price_per_room</th>\n",
              "      <th>no_of_special_requests</th>\n",
              "      <th>booking_status</th>\n",
              "    </tr>\n",
              "  </thead>\n",
              "  <tbody>\n",
              "    <tr>\n",
              "      <th>36270</th>\n",
              "      <td>INN36271</td>\n",
              "      <td>3</td>\n",
              "      <td>0</td>\n",
              "      <td>2</td>\n",
              "      <td>6</td>\n",
              "      <td>Meal Plan 1</td>\n",
              "      <td>0.0</td>\n",
              "      <td>Room_Type 4</td>\n",
              "      <td>85</td>\n",
              "      <td>2018</td>\n",
              "      <td>8</td>\n",
              "      <td>3</td>\n",
              "      <td>Online</td>\n",
              "      <td>0</td>\n",
              "      <td>0</td>\n",
              "      <td>0</td>\n",
              "      <td>167.80</td>\n",
              "      <td>1</td>\n",
              "      <td>Not_Canceled</td>\n",
              "    </tr>\n",
              "    <tr>\n",
              "      <th>36271</th>\n",
              "      <td>INN36272</td>\n",
              "      <td>2</td>\n",
              "      <td>0</td>\n",
              "      <td>1</td>\n",
              "      <td>3</td>\n",
              "      <td>Meal Plan 1</td>\n",
              "      <td>0.0</td>\n",
              "      <td>Room_Type 1</td>\n",
              "      <td>228</td>\n",
              "      <td>2018</td>\n",
              "      <td>10</td>\n",
              "      <td>17</td>\n",
              "      <td>Online</td>\n",
              "      <td>0</td>\n",
              "      <td>0</td>\n",
              "      <td>0</td>\n",
              "      <td>90.95</td>\n",
              "      <td>2</td>\n",
              "      <td>Canceled</td>\n",
              "    </tr>\n",
              "    <tr>\n",
              "      <th>36272</th>\n",
              "      <td>INN36273</td>\n",
              "      <td>2</td>\n",
              "      <td>0</td>\n",
              "      <td>2</td>\n",
              "      <td>6</td>\n",
              "      <td>Meal Plan 1</td>\n",
              "      <td>0.0</td>\n",
              "      <td>Room_Type 1</td>\n",
              "      <td>148</td>\n",
              "      <td>2018</td>\n",
              "      <td>7</td>\n",
              "      <td>1</td>\n",
              "      <td>Online</td>\n",
              "      <td>0</td>\n",
              "      <td>0</td>\n",
              "      <td>0</td>\n",
              "      <td>98.39</td>\n",
              "      <td>2</td>\n",
              "      <td>Not_Canceled</td>\n",
              "    </tr>\n",
              "    <tr>\n",
              "      <th>36273</th>\n",
              "      <td>INN36274</td>\n",
              "      <td>2</td>\n",
              "      <td>0</td>\n",
              "      <td>0</td>\n",
              "      <td>3</td>\n",
              "      <td>Not Selected</td>\n",
              "      <td>0.0</td>\n",
              "      <td>Room_Type 1</td>\n",
              "      <td>63</td>\n",
              "      <td>2018</td>\n",
              "      <td>4</td>\n",
              "      <td>21</td>\n",
              "      <td>Online</td>\n",
              "      <td>0</td>\n",
              "      <td>0</td>\n",
              "      <td>0</td>\n",
              "      <td>94.50</td>\n",
              "      <td>0</td>\n",
              "      <td>Canceled</td>\n",
              "    </tr>\n",
              "    <tr>\n",
              "      <th>36274</th>\n",
              "      <td>INN36275</td>\n",
              "      <td>2</td>\n",
              "      <td>0</td>\n",
              "      <td>1</td>\n",
              "      <td>2</td>\n",
              "      <td>Meal Plan 1</td>\n",
              "      <td>0.0</td>\n",
              "      <td>Room_Type 1</td>\n",
              "      <td>207</td>\n",
              "      <td>2018</td>\n",
              "      <td>12</td>\n",
              "      <td>30</td>\n",
              "      <td>Offline</td>\n",
              "      <td>0</td>\n",
              "      <td>0</td>\n",
              "      <td>0</td>\n",
              "      <td>161.67</td>\n",
              "      <td>0</td>\n",
              "      <td>Not_Canceled</td>\n",
              "    </tr>\n",
              "  </tbody>\n",
              "</table>\n",
              "</div>"
            ],
            "text/plain": [
              "      Booking_ID  no_of_adults  no_of_children  no_of_weekend_nights  \\\n",
              "36270   INN36271             3               0                     2   \n",
              "36271   INN36272             2               0                     1   \n",
              "36272   INN36273             2               0                     2   \n",
              "36273   INN36274             2               0                     0   \n",
              "36274   INN36275             2               0                     1   \n",
              "\n",
              "       no_of_week_nights type_of_meal_plan  required_car_parking_space  \\\n",
              "36270                  6       Meal Plan 1                         0.0   \n",
              "36271                  3       Meal Plan 1                         0.0   \n",
              "36272                  6       Meal Plan 1                         0.0   \n",
              "36273                  3      Not Selected                         0.0   \n",
              "36274                  2       Meal Plan 1                         0.0   \n",
              "\n",
              "      room_type_reserved  lead_time  arrival_year  arrival_month  \\\n",
              "36270        Room_Type 4         85          2018              8   \n",
              "36271        Room_Type 1        228          2018             10   \n",
              "36272        Room_Type 1        148          2018              7   \n",
              "36273        Room_Type 1         63          2018              4   \n",
              "36274        Room_Type 1        207          2018             12   \n",
              "\n",
              "       arrival_date market_segment_type  repeated_guest  \\\n",
              "36270             3              Online               0   \n",
              "36271            17              Online               0   \n",
              "36272             1              Online               0   \n",
              "36273            21              Online               0   \n",
              "36274            30             Offline               0   \n",
              "\n",
              "       no_of_previous_cancellations  no_of_previous_bookings_not_canceled  \\\n",
              "36270                             0                                     0   \n",
              "36271                             0                                     0   \n",
              "36272                             0                                     0   \n",
              "36273                             0                                     0   \n",
              "36274                             0                                     0   \n",
              "\n",
              "       avg_price_per_room  no_of_special_requests booking_status  \n",
              "36270              167.80                       1   Not_Canceled  \n",
              "36271               90.95                       2       Canceled  \n",
              "36272               98.39                       2   Not_Canceled  \n",
              "36273               94.50                       0       Canceled  \n",
              "36274              161.67                       0   Not_Canceled  "
            ]
          },
          "execution_count": 3,
          "metadata": {},
          "output_type": "execute_result"
        }
      ],
      "source": [
        "df.tail()"
      ]
    },
    {
      "cell_type": "code",
      "execution_count": 4,
      "metadata": {
        "colab": {
          "base_uri": "https://localhost:8080/"
        },
        "id": "6Yi4iupF5cdv",
        "outputId": "8cafed65-9484-4bf6-80b8-165526af6ed9"
      },
      "outputs": [
        {
          "data": {
            "text/plain": [
              "(36275, 19)"
            ]
          },
          "execution_count": 4,
          "metadata": {},
          "output_type": "execute_result"
        }
      ],
      "source": [
        "df.shape"
      ]
    },
    {
      "cell_type": "code",
      "execution_count": 5,
      "metadata": {
        "colab": {
          "base_uri": "https://localhost:8080/"
        },
        "id": "2Zc-pPon6ESA",
        "outputId": "213d1414-6800-400e-d0ca-cd089c4dcfda"
      },
      "outputs": [
        {
          "name": "stdout",
          "output_type": "stream",
          "text": [
            "<class 'pandas.core.frame.DataFrame'>\n",
            "RangeIndex: 36275 entries, 0 to 36274\n",
            "Data columns (total 19 columns):\n",
            " #   Column                                Non-Null Count  Dtype  \n",
            "---  ------                                --------------  -----  \n",
            " 0   Booking_ID                            36275 non-null  object \n",
            " 1   no_of_adults                          36275 non-null  int64  \n",
            " 2   no_of_children                        36275 non-null  int64  \n",
            " 3   no_of_weekend_nights                  36275 non-null  int64  \n",
            " 4   no_of_week_nights                     36275 non-null  int64  \n",
            " 5   type_of_meal_plan                     35368 non-null  object \n",
            " 6   required_car_parking_space            35005 non-null  float64\n",
            " 7   room_type_reserved                    36275 non-null  object \n",
            " 8   lead_time                             36275 non-null  int64  \n",
            " 9   arrival_year                          36275 non-null  int64  \n",
            " 10  arrival_month                         36275 non-null  int64  \n",
            " 11  arrival_date                          36275 non-null  int64  \n",
            " 12  market_segment_type                   36275 non-null  object \n",
            " 13  repeated_guest                        36275 non-null  int64  \n",
            " 14  no_of_previous_cancellations          36275 non-null  int64  \n",
            " 15  no_of_previous_bookings_not_canceled  36275 non-null  int64  \n",
            " 16  avg_price_per_room                    34643 non-null  float64\n",
            " 17  no_of_special_requests                36275 non-null  int64  \n",
            " 18  booking_status                        36275 non-null  object \n",
            "dtypes: float64(2), int64(12), object(5)\n",
            "memory usage: 5.3+ MB\n"
          ]
        }
      ],
      "source": [
        "df.info()"
      ]
    },
    {
      "cell_type": "markdown",
      "metadata": {
        "id": "YhfsII--VoDf"
      },
      "source": [
        "a. Booking_ID = Pengenal unik dari tiap pemesanan\n",
        "b. no_of_adults = Jumlah orang dewasa\n",
        "c. no_of_children = Jumlah anak kecil\n",
        "d. no_of_weekend_nights = Jumlah malam akhir pekan (Sabtu atau Minggu) tamu menginap atau\n",
        "memesan untuk menginap di hotel\n",
        "e. no_of_week_nights = Jumlah malam dalam seminggu (Senin hingga Jumat) tamu menginap atau\n",
        "memesan untuk menginap di hotel\n",
        "f. type_of_meal_plan = Jenis paket makanan yang dipesan oleh pelanggan\n",
        "g. required_car_parking_space = Apakah pelanggan membutuhkan tempat parkir mobil? (0 - Tidak, 1-\n",
        "Ya)\n",
        "h. room_type_reserved = Jenis kamar yang dipesan oleh pelanggan. Nilai-nilai tersebut dienkripsi oleh\n",
        "INN Hotels\n",
        "i. lead_time = Jumlah hari antara tanggal pemesanan dan tanggal kedatangan\n",
        "j. arrival_year = Tahun tanggal kedatangan\n",
        "k. arrival_month = Bulan tanggal kedatangan\n",
        "l. arrival_date = Tanggal kedatangan\n",
        "m. market_segment_type = Penunjukan segmen pasar\n",
        "n. repeated_guest = Apakah pelanggan tersebut merupakan tamu yang pernah melakukan booking dan\n",
        "juga menginap? (0 - Tidak, 1- Ya)\n",
        "o. no_of_previous_cancellations = Jumlah pemesanan sebelumnya yang dibatalkan oleh pelanggan\n",
        "sebelum pemesanan saat ini\n",
        "p. no_of_previous_bookings_not_canceled = Jumlah pemesanan sebelumnya yang tidak dibatalkan\n",
        "oleh pelanggan sebelum pemesanan saat ini\n",
        "q. avg_price_per_room = Harga rata-rata per hari pemesanan; harga kamar bersifat dinamis. (dalam\n",
        "euro)\n",
        "r. no_of_special_requests = Jumlah total permintaan khusus yang dibuat oleh pelanggan (misalnya\n",
        "lantai yang tinggi, pemandangan dari kamar, dan lain-lain.)\n",
        "s. booking_status (target variable) = Flag yang menunjukkan apakah pemesanan dibatalkan atau tidak."
      ]
    },
    {
      "cell_type": "markdown",
      "metadata": {
        "id": "Vj367T9V6NHQ"
      },
      "source": [
        "missing value di type_of_meal_plan, required_car_parking_space dan avg_price_per_room"
      ]
    },
    {
      "cell_type": "code",
      "execution_count": 6,
      "metadata": {
        "colab": {
          "base_uri": "https://localhost:8080/"
        },
        "id": "wM2pnKwX6lse",
        "outputId": "edaeefd6-8490-496c-f4a0-2e5b95f5b3b4"
      },
      "outputs": [
        {
          "data": {
            "text/plain": [
              "Index(['Booking_ID', 'no_of_adults', 'no_of_children', 'no_of_weekend_nights',\n",
              "       'no_of_week_nights', 'type_of_meal_plan', 'required_car_parking_space',\n",
              "       'room_type_reserved', 'lead_time', 'arrival_year', 'arrival_month',\n",
              "       'arrival_date', 'market_segment_type', 'repeated_guest',\n",
              "       'no_of_previous_cancellations', 'no_of_previous_bookings_not_canceled',\n",
              "       'avg_price_per_room', 'no_of_special_requests', 'booking_status'],\n",
              "      dtype='object')"
            ]
          },
          "execution_count": 6,
          "metadata": {},
          "output_type": "execute_result"
        }
      ],
      "source": [
        "df.columns"
      ]
    },
    {
      "cell_type": "code",
      "execution_count": 7,
      "metadata": {
        "colab": {
          "base_uri": "https://localhost:8080/"
        },
        "id": "S7xp7Bmo6vA-",
        "outputId": "c6a91454-56a5-44e5-aa07-ceca395041b1"
      },
      "outputs": [
        {
          "name": "stdout",
          "output_type": "stream",
          "text": [
            "INN00001    1\n",
            "INN24187    1\n",
            "INN24181    1\n",
            "INN24182    1\n",
            "INN24183    1\n",
            "           ..\n",
            "INN12086    1\n",
            "INN12085    1\n",
            "INN12084    1\n",
            "INN12083    1\n",
            "INN36275    1\n",
            "Name: Booking_ID, Length: 36275, dtype: int64\n",
            "\n",
            "2    26108\n",
            "1     7695\n",
            "3     2317\n",
            "0      139\n",
            "4       16\n",
            "Name: no_of_adults, dtype: int64\n",
            "\n",
            "0     33577\n",
            "1      1618\n",
            "2      1058\n",
            "3        19\n",
            "9         2\n",
            "10        1\n",
            "Name: no_of_children, dtype: int64\n",
            "\n",
            "0    16872\n",
            "1     9995\n",
            "2     9071\n",
            "3      153\n",
            "4      129\n",
            "5       34\n",
            "6       20\n",
            "7        1\n",
            "Name: no_of_weekend_nights, dtype: int64\n",
            "\n",
            "2     11444\n",
            "1      9488\n",
            "3      7839\n",
            "4      2990\n",
            "0      2387\n",
            "5      1614\n",
            "6       189\n",
            "7       113\n",
            "10       62\n",
            "8        62\n",
            "9        34\n",
            "11       17\n",
            "15       10\n",
            "12        9\n",
            "14        7\n",
            "13        5\n",
            "17        3\n",
            "16        2\n",
            "Name: no_of_week_nights, dtype: int64\n",
            "\n",
            "Meal Plan 1     27157\n",
            "Not Selected     4986\n",
            "Meal Plan 2      3220\n",
            "Meal Plan 3         5\n",
            "Name: type_of_meal_plan, dtype: int64\n",
            "\n",
            "0.0    33910\n",
            "1.0     1095\n",
            "Name: required_car_parking_space, dtype: int64\n",
            "\n",
            "Room_Type 1    28130\n",
            "Room_Type 4     6057\n",
            "Room_Type 6      966\n",
            "Room_Type 2      692\n",
            "Room_Type 5      265\n",
            "Room_Type 7      158\n",
            "Room_Type 3        7\n",
            "Name: room_type_reserved, dtype: int64\n",
            "\n",
            "0      1297\n",
            "1      1078\n",
            "2       643\n",
            "3       630\n",
            "4       628\n",
            "       ... \n",
            "300       1\n",
            "353       1\n",
            "328       1\n",
            "352       1\n",
            "351       1\n",
            "Name: lead_time, Length: 352, dtype: int64\n",
            "\n",
            "2018    29761\n",
            "2017     6514\n",
            "Name: arrival_year, dtype: int64\n",
            "\n",
            "10    5317\n",
            "9     4611\n",
            "8     3813\n",
            "6     3203\n",
            "12    3021\n",
            "11    2980\n",
            "7     2920\n",
            "4     2736\n",
            "5     2598\n",
            "3     2358\n",
            "2     1704\n",
            "1     1014\n",
            "Name: arrival_month, dtype: int64\n",
            "\n",
            "13    1358\n",
            "17    1345\n",
            "2     1331\n",
            "4     1327\n",
            "19    1327\n",
            "16    1306\n",
            "20    1281\n",
            "15    1273\n",
            "6     1273\n",
            "18    1260\n",
            "14    1242\n",
            "30    1216\n",
            "12    1204\n",
            "8     1198\n",
            "29    1190\n",
            "21    1158\n",
            "5     1154\n",
            "26    1146\n",
            "25    1146\n",
            "1     1133\n",
            "9     1130\n",
            "28    1129\n",
            "7     1110\n",
            "24    1103\n",
            "11    1098\n",
            "3     1098\n",
            "10    1089\n",
            "27    1059\n",
            "22    1023\n",
            "23     990\n",
            "31     578\n",
            "Name: arrival_date, dtype: int64\n",
            "\n",
            "Online           23214\n",
            "Offline          10528\n",
            "Corporate         2017\n",
            "Complementary      391\n",
            "Aviation           125\n",
            "Name: market_segment_type, dtype: int64\n",
            "\n",
            "0    35345\n",
            "1      930\n",
            "Name: repeated_guest, dtype: int64\n",
            "\n",
            "0     35937\n",
            "1       198\n",
            "2        46\n",
            "3        43\n",
            "11       25\n",
            "5        11\n",
            "4        10\n",
            "13        4\n",
            "6         1\n",
            "Name: no_of_previous_cancellations, dtype: int64\n",
            "\n",
            "0     35463\n",
            "1       228\n",
            "2       112\n",
            "3        80\n",
            "4        65\n",
            "5        60\n",
            "6        36\n",
            "7        24\n",
            "8        23\n",
            "10       19\n",
            "9        19\n",
            "11       15\n",
            "12       12\n",
            "14        9\n",
            "15        8\n",
            "16        7\n",
            "13        7\n",
            "18        6\n",
            "20        6\n",
            "21        6\n",
            "17        6\n",
            "19        6\n",
            "22        6\n",
            "25        3\n",
            "27        3\n",
            "24        3\n",
            "23        3\n",
            "44        2\n",
            "29        2\n",
            "48        2\n",
            "28        2\n",
            "30        2\n",
            "32        2\n",
            "31        2\n",
            "26        2\n",
            "46        1\n",
            "55        1\n",
            "45        1\n",
            "57        1\n",
            "53        1\n",
            "54        1\n",
            "58        1\n",
            "41        1\n",
            "40        1\n",
            "43        1\n",
            "35        1\n",
            "50        1\n",
            "56        1\n",
            "33        1\n",
            "37        1\n",
            "42        1\n",
            "51        1\n",
            "38        1\n",
            "34        1\n",
            "39        1\n",
            "52        1\n",
            "49        1\n",
            "47        1\n",
            "36        1\n",
            "Name: no_of_previous_bookings_not_canceled, dtype: int64\n",
            "\n",
            "65.00     801\n",
            "75.00     792\n",
            "90.00     669\n",
            "95.00     641\n",
            "115.00    621\n",
            "         ... \n",
            "84.03       1\n",
            "89.31       1\n",
            "128.86      1\n",
            "85.28       1\n",
            "167.80      1\n",
            "Name: avg_price_per_room, Length: 3850, dtype: int64\n",
            "\n",
            "0    19777\n",
            "1    11373\n",
            "2     4364\n",
            "3      675\n",
            "4       78\n",
            "5        8\n",
            "Name: no_of_special_requests, dtype: int64\n",
            "\n",
            "Not_Canceled    24390\n",
            "Canceled        11885\n",
            "Name: booking_status, dtype: int64\n",
            "\n"
          ]
        }
      ],
      "source": [
        "for Column in df.columns:\n",
        "  print(f\"{df[Column].value_counts()}\\n\")"
      ]
    },
    {
      "cell_type": "markdown",
      "metadata": {
        "id": "E0UHwHFC778g"
      },
      "source": [
        "split data"
      ]
    },
    {
      "cell_type": "code",
      "execution_count": 8,
      "metadata": {
        "id": "YC6R41Tf765Y"
      },
      "outputs": [],
      "source": [
        "input_df=df.drop(['booking_status','Booking_ID'],axis=1)\n",
        "output_df=df['booking_status']"
      ]
    },
    {
      "cell_type": "code",
      "execution_count": 9,
      "metadata": {
        "id": "_AFKzxRE8ICT"
      },
      "outputs": [],
      "source": [
        "from sklearn.model_selection import train_test_split\n",
        "x_train, x_test, y_train, y_test = train_test_split(input_df, output_df, test_size = 0.2, random_state = 42)"
      ]
    },
    {
      "cell_type": "code",
      "execution_count": 10,
      "metadata": {
        "colab": {
          "base_uri": "https://localhost:8080/",
          "height": 226
        },
        "id": "MzzbCIJm8POf",
        "outputId": "bb46ee26-c5b3-40a3-9503-549333409b66"
      },
      "outputs": [
        {
          "data": {
            "text/html": [
              "<div>\n",
              "<style scoped>\n",
              "    .dataframe tbody tr th:only-of-type {\n",
              "        vertical-align: middle;\n",
              "    }\n",
              "\n",
              "    .dataframe tbody tr th {\n",
              "        vertical-align: top;\n",
              "    }\n",
              "\n",
              "    .dataframe thead th {\n",
              "        text-align: right;\n",
              "    }\n",
              "</style>\n",
              "<table border=\"1\" class=\"dataframe\">\n",
              "  <thead>\n",
              "    <tr style=\"text-align: right;\">\n",
              "      <th></th>\n",
              "      <th>no_of_adults</th>\n",
              "      <th>no_of_children</th>\n",
              "      <th>no_of_weekend_nights</th>\n",
              "      <th>no_of_week_nights</th>\n",
              "      <th>type_of_meal_plan</th>\n",
              "      <th>required_car_parking_space</th>\n",
              "      <th>room_type_reserved</th>\n",
              "      <th>lead_time</th>\n",
              "      <th>arrival_year</th>\n",
              "      <th>arrival_month</th>\n",
              "      <th>arrival_date</th>\n",
              "      <th>market_segment_type</th>\n",
              "      <th>repeated_guest</th>\n",
              "      <th>no_of_previous_cancellations</th>\n",
              "      <th>no_of_previous_bookings_not_canceled</th>\n",
              "      <th>avg_price_per_room</th>\n",
              "      <th>no_of_special_requests</th>\n",
              "    </tr>\n",
              "  </thead>\n",
              "  <tbody>\n",
              "    <tr>\n",
              "      <th>25629</th>\n",
              "      <td>2</td>\n",
              "      <td>1</td>\n",
              "      <td>2</td>\n",
              "      <td>1</td>\n",
              "      <td>Meal Plan 1</td>\n",
              "      <td>0.0</td>\n",
              "      <td>Room_Type 1</td>\n",
              "      <td>26</td>\n",
              "      <td>2017</td>\n",
              "      <td>10</td>\n",
              "      <td>17</td>\n",
              "      <td>Online</td>\n",
              "      <td>0</td>\n",
              "      <td>0</td>\n",
              "      <td>0</td>\n",
              "      <td>161.00</td>\n",
              "      <td>0</td>\n",
              "    </tr>\n",
              "    <tr>\n",
              "      <th>14473</th>\n",
              "      <td>2</td>\n",
              "      <td>1</td>\n",
              "      <td>1</td>\n",
              "      <td>1</td>\n",
              "      <td>Meal Plan 1</td>\n",
              "      <td>0.0</td>\n",
              "      <td>Room_Type 1</td>\n",
              "      <td>98</td>\n",
              "      <td>2018</td>\n",
              "      <td>7</td>\n",
              "      <td>16</td>\n",
              "      <td>Online</td>\n",
              "      <td>0</td>\n",
              "      <td>0</td>\n",
              "      <td>0</td>\n",
              "      <td>121.50</td>\n",
              "      <td>2</td>\n",
              "    </tr>\n",
              "    <tr>\n",
              "      <th>23720</th>\n",
              "      <td>2</td>\n",
              "      <td>0</td>\n",
              "      <td>0</td>\n",
              "      <td>3</td>\n",
              "      <td>Meal Plan 1</td>\n",
              "      <td>0.0</td>\n",
              "      <td>Room_Type 1</td>\n",
              "      <td>433</td>\n",
              "      <td>2018</td>\n",
              "      <td>9</td>\n",
              "      <td>8</td>\n",
              "      <td>Offline</td>\n",
              "      <td>0</td>\n",
              "      <td>0</td>\n",
              "      <td>0</td>\n",
              "      <td>70.00</td>\n",
              "      <td>0</td>\n",
              "    </tr>\n",
              "    <tr>\n",
              "      <th>5843</th>\n",
              "      <td>2</td>\n",
              "      <td>0</td>\n",
              "      <td>2</td>\n",
              "      <td>5</td>\n",
              "      <td>Meal Plan 1</td>\n",
              "      <td>0.0</td>\n",
              "      <td>Room_Type 1</td>\n",
              "      <td>195</td>\n",
              "      <td>2018</td>\n",
              "      <td>8</td>\n",
              "      <td>8</td>\n",
              "      <td>Offline</td>\n",
              "      <td>0</td>\n",
              "      <td>0</td>\n",
              "      <td>0</td>\n",
              "      <td>72.25</td>\n",
              "      <td>0</td>\n",
              "    </tr>\n",
              "    <tr>\n",
              "      <th>18709</th>\n",
              "      <td>1</td>\n",
              "      <td>0</td>\n",
              "      <td>0</td>\n",
              "      <td>2</td>\n",
              "      <td>Meal Plan 1</td>\n",
              "      <td>0.0</td>\n",
              "      <td>Room_Type 1</td>\n",
              "      <td>188</td>\n",
              "      <td>2018</td>\n",
              "      <td>6</td>\n",
              "      <td>15</td>\n",
              "      <td>Offline</td>\n",
              "      <td>0</td>\n",
              "      <td>0</td>\n",
              "      <td>0</td>\n",
              "      <td>130.00</td>\n",
              "      <td>0</td>\n",
              "    </tr>\n",
              "  </tbody>\n",
              "</table>\n",
              "</div>"
            ],
            "text/plain": [
              "       no_of_adults  no_of_children  no_of_weekend_nights  no_of_week_nights  \\\n",
              "25629             2               1                     2                  1   \n",
              "14473             2               1                     1                  1   \n",
              "23720             2               0                     0                  3   \n",
              "5843              2               0                     2                  5   \n",
              "18709             1               0                     0                  2   \n",
              "\n",
              "      type_of_meal_plan  required_car_parking_space room_type_reserved  \\\n",
              "25629       Meal Plan 1                         0.0        Room_Type 1   \n",
              "14473       Meal Plan 1                         0.0        Room_Type 1   \n",
              "23720       Meal Plan 1                         0.0        Room_Type 1   \n",
              "5843        Meal Plan 1                         0.0        Room_Type 1   \n",
              "18709       Meal Plan 1                         0.0        Room_Type 1   \n",
              "\n",
              "       lead_time  arrival_year  arrival_month  arrival_date  \\\n",
              "25629         26          2017             10            17   \n",
              "14473         98          2018              7            16   \n",
              "23720        433          2018              9             8   \n",
              "5843         195          2018              8             8   \n",
              "18709        188          2018              6            15   \n",
              "\n",
              "      market_segment_type  repeated_guest  no_of_previous_cancellations  \\\n",
              "25629              Online               0                             0   \n",
              "14473              Online               0                             0   \n",
              "23720             Offline               0                             0   \n",
              "5843              Offline               0                             0   \n",
              "18709             Offline               0                             0   \n",
              "\n",
              "       no_of_previous_bookings_not_canceled  avg_price_per_room  \\\n",
              "25629                                     0              161.00   \n",
              "14473                                     0              121.50   \n",
              "23720                                     0               70.00   \n",
              "5843                                      0               72.25   \n",
              "18709                                     0              130.00   \n",
              "\n",
              "       no_of_special_requests  \n",
              "25629                       0  \n",
              "14473                       2  \n",
              "23720                       0  \n",
              "5843                        0  \n",
              "18709                       0  "
            ]
          },
          "execution_count": 10,
          "metadata": {},
          "output_type": "execute_result"
        }
      ],
      "source": [
        "x_train.head()"
      ]
    },
    {
      "cell_type": "code",
      "execution_count": 11,
      "metadata": {
        "colab": {
          "base_uri": "https://localhost:8080/",
          "height": 241
        },
        "id": "eA5o6LGU8k6o",
        "outputId": "89106dc4-0be0-4d93-fc25-0fa1251ca9c2"
      },
      "outputs": [
        {
          "data": {
            "text/plain": [
              "25629    Not_Canceled\n",
              "14473    Not_Canceled\n",
              "23720        Canceled\n",
              "5843     Not_Canceled\n",
              "18709        Canceled\n",
              "Name: booking_status, dtype: object"
            ]
          },
          "execution_count": 11,
          "metadata": {},
          "output_type": "execute_result"
        }
      ],
      "source": [
        "y_train.head()"
      ]
    },
    {
      "cell_type": "code",
      "execution_count": 12,
      "metadata": {
        "colab": {
          "base_uri": "https://localhost:8080/"
        },
        "id": "P_B0ykXI8qRi",
        "outputId": "97444979-df36-481f-fdbc-a94dd3753823"
      },
      "outputs": [
        {
          "data": {
            "text/plain": [
              "Index(['no_of_adults', 'no_of_children', 'no_of_weekend_nights',\n",
              "       'no_of_week_nights', 'type_of_meal_plan', 'required_car_parking_space',\n",
              "       'room_type_reserved', 'lead_time', 'arrival_year', 'arrival_month',\n",
              "       'arrival_date', 'market_segment_type', 'repeated_guest',\n",
              "       'no_of_previous_cancellations', 'no_of_previous_bookings_not_canceled',\n",
              "       'avg_price_per_room', 'no_of_special_requests'],\n",
              "      dtype='object')"
            ]
          },
          "execution_count": 12,
          "metadata": {},
          "output_type": "execute_result"
        }
      ],
      "source": [
        "x_train.columns"
      ]
    },
    {
      "cell_type": "code",
      "execution_count": 13,
      "metadata": {
        "colab": {
          "base_uri": "https://localhost:8080/"
        },
        "id": "k3Sp1M5F8sdI",
        "outputId": "c1cce831-a0c8-46dc-c468-af02b6fc9152"
      },
      "outputs": [
        {
          "data": {
            "text/plain": [
              "(29020, 17)"
            ]
          },
          "execution_count": 13,
          "metadata": {},
          "output_type": "execute_result"
        }
      ],
      "source": [
        "x_train.shape"
      ]
    },
    {
      "cell_type": "markdown",
      "metadata": {
        "id": "zlFb0jfr8zh-"
      },
      "source": [
        "handle missing value"
      ]
    },
    {
      "cell_type": "code",
      "execution_count": 14,
      "metadata": {
        "colab": {
          "base_uri": "https://localhost:8080/",
          "height": 489
        },
        "id": "B80B8iCvAEx9",
        "outputId": "6b5ff27c-3367-4450-f6f1-b6e0bf9d98f9"
      },
      "outputs": [
        {
          "data": {
            "text/plain": [
              "65.00     638\n",
              "75.00     624\n",
              "90.00     529\n",
              "95.00     498\n",
              "115.00    495\n",
              "         ... \n",
              "119.75      1\n",
              "207.63      1\n",
              "94.11       1\n",
              "102.09      1\n",
              "79.85       1\n",
              "Name: avg_price_per_room, Length: 3432, dtype: int64"
            ]
          },
          "execution_count": 14,
          "metadata": {},
          "output_type": "execute_result"
        }
      ],
      "source": [
        "x_train['avg_price_per_room'].value_counts()"
      ]
    },
    {
      "cell_type": "code",
      "execution_count": 15,
      "metadata": {
        "colab": {
          "base_uri": "https://localhost:8080/",
          "height": 430
        },
        "id": "peV-GTQi8y9n",
        "outputId": "73ae0d64-2a50-4759-d03c-b2c6e8106119"
      },
      "outputs": [
        {
          "data": {
            "image/png": "[encoded data removed]",
            "text/plain": [
              "<Figure size 640x480 with 1 Axes>"
            ]
          },
          "metadata": {},
          "output_type": "display_data"
        }
      ],
      "source": [
        "#check outliers untuk non object\n",
        "boxplot = x_train.boxplot(column=['avg_price_per_room'])\n",
        "plt.show()"
      ]
    },
    {
      "cell_type": "code",
      "execution_count": 16,
      "metadata": {
        "colab": {
          "base_uri": "https://localhost:8080/"
        },
        "id": "BQ5ddDpg-HK9",
        "outputId": "b67fdcf0-8d7a-42fc-ffba-cb512e1e0425"
      },
      "outputs": [
        {
          "name": "stdout",
          "output_type": "stream",
          "text": [
            "median avg_price_per_room: nan\n"
          ]
        }
      ],
      "source": [
        "#calculate median for avg_price_per_room\n",
        "print('median avg_price_per_room:', np.median(x_train['avg_price_per_room']))"
      ]
    },
    {
      "cell_type": "code",
      "execution_count": 17,
      "metadata": {
        "colab": {
          "base_uri": "https://localhost:8080/"
        },
        "id": "h_Njr493BEgR",
        "outputId": "a6ff90da-1030-48da-86ec-b478137646fd"
      },
      "outputs": [],
      "source": [
        "#masukkan nilai ke nan untuk train dan test\n",
        "x_train['avg_price_per_room'].fillna(99.9, inplace=True)\n",
        "x_test['avg_price_per_room'].fillna(99.9, inplace=True)"
      ]
    },
    {
      "cell_type": "code",
      "execution_count": 18,
      "metadata": {
        "colab": {
          "base_uri": "https://localhost:8080/"
        },
        "id": "ehYvF_IyCfH1",
        "outputId": "2584bab4-888d-4c05-ae05-38b9ae09b4bf"
      },
      "outputs": [
        {
          "name": "stdout",
          "output_type": "stream",
          "text": [
            "Meal Plan 1\n",
            "\n",
            "0.0\n"
          ]
        }
      ],
      "source": [
        "#calculate mode for type_of_meal_plan dan required_car_parking_space\n",
        "import statistics as sts\n",
        "print(f\"{sts.mode(x_train['type_of_meal_plan'])}\\n\")\n",
        "print(f\"{sts.mode(x_train['required_car_parking_space'])}\")"
      ]
    },
    {
      "cell_type": "code",
      "execution_count": 19,
      "metadata": {
        "colab": {
          "base_uri": "https://localhost:8080/"
        },
        "id": "Tedhex7wDPdB",
        "outputId": "b2c84bd3-3549-43f5-9b57-fd4dddbf1b32"
      },
      "outputs": [],
      "source": [
        "#Input missing value dengan mode\n",
        "x_train['type_of_meal_plan'].fillna('Meal Plan 1', inplace=True)\n",
        "x_test['type_of_meal_plan'].fillna('Meal Plan 1', inplace=True)\n",
        "\n",
        "x_train['required_car_parking_space'].fillna(0.0, inplace=True)\n",
        "x_test['required_car_parking_space'].fillna(0.0, inplace=True)"
      ]
    },
    {
      "cell_type": "code",
      "execution_count": 20,
      "metadata": {
        "colab": {
          "base_uri": "https://localhost:8080/"
        },
        "id": "jNL9bT2PDjSh",
        "outputId": "92ea6ec5-3425-4a18-d2b6-d0a211b5b7b4"
      },
      "outputs": [
        {
          "name": "stdout",
          "output_type": "stream",
          "text": [
            "<class 'pandas.core.frame.DataFrame'>\n",
            "Int64Index: 29020 entries, 25629 to 15795\n",
            "Data columns (total 17 columns):\n",
            " #   Column                                Non-Null Count  Dtype  \n",
            "---  ------                                --------------  -----  \n",
            " 0   no_of_adults                          29020 non-null  int64  \n",
            " 1   no_of_children                        29020 non-null  int64  \n",
            " 2   no_of_weekend_nights                  29020 non-null  int64  \n",
            " 3   no_of_week_nights                     29020 non-null  int64  \n",
            " 4   type_of_meal_plan                     29020 non-null  object \n",
            " 5   required_car_parking_space            29020 non-null  float64\n",
            " 6   room_type_reserved                    29020 non-null  object \n",
            " 7   lead_time                             29020 non-null  int64  \n",
            " 8   arrival_year                          29020 non-null  int64  \n",
            " 9   arrival_month                         29020 non-null  int64  \n",
            " 10  arrival_date                          29020 non-null  int64  \n",
            " 11  market_segment_type                   29020 non-null  object \n",
            " 12  repeated_guest                        29020 non-null  int64  \n",
            " 13  no_of_previous_cancellations          29020 non-null  int64  \n",
            " 14  no_of_previous_bookings_not_canceled  29020 non-null  int64  \n",
            " 15  avg_price_per_room                    29020 non-null  float64\n",
            " 16  no_of_special_requests                29020 non-null  int64  \n",
            "dtypes: float64(2), int64(12), object(3)\n",
            "memory usage: 4.0+ MB\n"
          ]
        }
      ],
      "source": [
        "x_train.info()"
      ]
    },
    {
      "cell_type": "markdown",
      "metadata": {
        "id": "irCBg80fD4gj"
      },
      "source": [
        "categorical feature encoding"
      ]
    },
    {
      "cell_type": "code",
      "execution_count": 21,
      "metadata": {
        "colab": {
          "base_uri": "https://localhost:8080/",
          "height": 241
        },
        "id": "pnr7ee8JD_Id",
        "outputId": "d9cbd557-16ad-4de7-c8d6-93cafe24c759"
      },
      "outputs": [
        {
          "data": {
            "text/plain": [
              "Meal Plan 1     27157\n",
              "Not Selected     4986\n",
              "Meal Plan 2      3220\n",
              "Meal Plan 3         5\n",
              "Name: type_of_meal_plan, dtype: int64"
            ]
          },
          "execution_count": 21,
          "metadata": {},
          "output_type": "execute_result"
        }
      ],
      "source": [
        "#check value features\n",
        "df['type_of_meal_plan'].value_counts()"
      ]
    },
    {
      "cell_type": "code",
      "execution_count": 22,
      "metadata": {
        "colab": {
          "base_uri": "https://localhost:8080/",
          "height": 335
        },
        "id": "qFTRYCXiEcJW",
        "outputId": "74a00001-fdcc-40a1-e602-fbaee1d97ba5"
      },
      "outputs": [
        {
          "data": {
            "text/plain": [
              "Room_Type 1    28130\n",
              "Room_Type 4     6057\n",
              "Room_Type 6      966\n",
              "Room_Type 2      692\n",
              "Room_Type 5      265\n",
              "Room_Type 7      158\n",
              "Room_Type 3        7\n",
              "Name: room_type_reserved, dtype: int64"
            ]
          },
          "execution_count": 22,
          "metadata": {},
          "output_type": "execute_result"
        }
      ],
      "source": [
        "df['room_type_reserved'].value_counts()"
      ]
    },
    {
      "cell_type": "code",
      "execution_count": 23,
      "metadata": {
        "colab": {
          "base_uri": "https://localhost:8080/",
          "height": 272
        },
        "id": "_hUZWabfEiVN",
        "outputId": "01b15be0-ad49-4202-b009-63fe6003312a"
      },
      "outputs": [
        {
          "data": {
            "text/plain": [
              "Online           23214\n",
              "Offline          10528\n",
              "Corporate         2017\n",
              "Complementary      391\n",
              "Aviation           125\n",
              "Name: market_segment_type, dtype: int64"
            ]
          },
          "execution_count": 23,
          "metadata": {},
          "output_type": "execute_result"
        }
      ],
      "source": [
        "df['market_segment_type'].value_counts()"
      ]
    },
    {
      "cell_type": "code",
      "execution_count": 24,
      "metadata": {
        "id": "xgHcBp8jEqi1"
      },
      "outputs": [],
      "source": [
        "#One hot Encoding\n",
        "from sklearn.preprocessing import OneHotEncoder\n",
        "\n",
        "type_enc_train=x_train[['type_of_meal_plan']]\n",
        "room_enc_train=x_train[['room_type_reserved']]\n",
        "market_enc_train=x_train[['market_segment_type']]\n",
        "\n",
        "type_enc_test=x_test[['type_of_meal_plan']]\n",
        "room_enc_test=x_test[['room_type_reserved']]\n",
        "market_enc_test=x_test[['market_segment_type']]\n",
        "\n",
        "train_encoded_type=OneHotEncoder()\n",
        "train_encoded_room=OneHotEncoder()\n",
        "train_encoded_market=OneHotEncoder()\n",
        "\n",
        "type_enc_train=pd.DataFrame(train_encoded_type.fit_transform(type_enc_train).toarray(),columns=train_encoded_type.get_feature_names_out())\n",
        "room_enc_train=pd.DataFrame(train_encoded_room.fit_transform(room_enc_train).toarray(),columns=train_encoded_room.get_feature_names_out())\n",
        "market_enc_train=pd.DataFrame(train_encoded_market.fit_transform(market_enc_train).toarray(),columns=train_encoded_market.get_feature_names_out())\n",
        "\n",
        "type_enc_test=pd.DataFrame(train_encoded_type.transform(type_enc_test).toarray(),columns=train_encoded_type.get_feature_names_out())\n",
        "room_enc_test=pd.DataFrame(train_encoded_room.transform(room_enc_test).toarray(),columns=train_encoded_room.get_feature_names_out())\n",
        "market_enc_test=pd.DataFrame(train_encoded_market.transform(market_enc_test).toarray(),columns=train_encoded_market.get_feature_names_out())\n",
        "\n",
        "\n",
        "x_train=x_train.reset_index()\n",
        "x_test=x_test.reset_index()\n",
        "\n",
        "x_train_enc=pd.concat([x_train,type_enc_train,room_enc_train,market_enc_train], axis=1)\n",
        "x_test_enc=pd.concat([x_test,type_enc_test,room_enc_test,market_enc_test], axis=1)"
      ]
    },
    {
      "cell_type": "code",
      "execution_count": 25,
      "metadata": {
        "colab": {
          "base_uri": "https://localhost:8080/"
        },
        "id": "tqTNIBSXH9cj",
        "outputId": "074014cb-bdb8-4f6e-9f1c-5a03dd53c28f"
      },
      "outputs": [
        {
          "data": {
            "text/plain": [
              "array(['market_segment_type_Aviation',\n",
              "       'market_segment_type_Complementary',\n",
              "       'market_segment_type_Corporate', 'market_segment_type_Offline',\n",
              "       'market_segment_type_Online'], dtype=object)"
            ]
          },
          "execution_count": 25,
          "metadata": {},
          "output_type": "execute_result"
        }
      ],
      "source": [
        "train_encoded_market.get_feature_names_out()"
      ]
    },
    {
      "cell_type": "code",
      "execution_count": 26,
      "metadata": {
        "colab": {
          "base_uri": "https://localhost:8080/"
        },
        "id": "gKTrKH9NIFlb",
        "outputId": "c62a6951-0b78-4601-86ec-5da63f86d150"
      },
      "outputs": [
        {
          "data": {
            "text/plain": [
              "array(['room_type_reserved_Room_Type 1', 'room_type_reserved_Room_Type 2',\n",
              "       'room_type_reserved_Room_Type 3', 'room_type_reserved_Room_Type 4',\n",
              "       'room_type_reserved_Room_Type 5', 'room_type_reserved_Room_Type 6',\n",
              "       'room_type_reserved_Room_Type 7'], dtype=object)"
            ]
          },
          "execution_count": 26,
          "metadata": {},
          "output_type": "execute_result"
        }
      ],
      "source": [
        "train_encoded_room.get_feature_names_out()"
      ]
    },
    {
      "cell_type": "code",
      "execution_count": 27,
      "metadata": {
        "colab": {
          "base_uri": "https://localhost:8080/"
        },
        "id": "KlTVgiGEIFV4",
        "outputId": "bddcdceb-e071-4bbe-c05f-477fc68fcaf9"
      },
      "outputs": [
        {
          "data": {
            "text/plain": [
              "array(['type_of_meal_plan_Meal Plan 1', 'type_of_meal_plan_Meal Plan 2',\n",
              "       'type_of_meal_plan_Meal Plan 3', 'type_of_meal_plan_Not Selected'],\n",
              "      dtype=object)"
            ]
          },
          "execution_count": 27,
          "metadata": {},
          "output_type": "execute_result"
        }
      ],
      "source": [
        "train_encoded_type.get_feature_names_out()"
      ]
    },
    {
      "cell_type": "code",
      "execution_count": 28,
      "metadata": {
        "id": "l3y2oBd8IWa1"
      },
      "outputs": [],
      "source": [
        "filename_subs = 'oneHot_encode_type.pkl'\n",
        "pkl.dump(train_encoded_type, open(filename_subs, 'wb'))\n",
        "\n",
        "filename_subs = 'oneHot_encode_room.pkl'\n",
        "pkl.dump(train_encoded_room, open(filename_subs, 'wb'))\n",
        "\n",
        "filename_subs = 'oneHot_encode_market.pkl'\n",
        "pkl.dump(train_encoded_market, open(filename_subs, 'wb'))"
      ]
    },
    {
      "cell_type": "code",
      "execution_count": 29,
      "metadata": {
        "colab": {
          "base_uri": "https://localhost:8080/",
          "height": 273
        },
        "id": "LXGtErEGJGua",
        "outputId": "719dad50-a073-48bd-9f2f-0744a7d760d2"
      },
      "outputs": [
        {
          "data": {
            "text/html": [
              "<div>\n",
              "<style scoped>\n",
              "    .dataframe tbody tr th:only-of-type {\n",
              "        vertical-align: middle;\n",
              "    }\n",
              "\n",
              "    .dataframe tbody tr th {\n",
              "        vertical-align: top;\n",
              "    }\n",
              "\n",
              "    .dataframe thead th {\n",
              "        text-align: right;\n",
              "    }\n",
              "</style>\n",
              "<table border=\"1\" class=\"dataframe\">\n",
              "  <thead>\n",
              "    <tr style=\"text-align: right;\">\n",
              "      <th></th>\n",
              "      <th>index</th>\n",
              "      <th>no_of_adults</th>\n",
              "      <th>no_of_children</th>\n",
              "      <th>no_of_weekend_nights</th>\n",
              "      <th>no_of_week_nights</th>\n",
              "      <th>type_of_meal_plan</th>\n",
              "      <th>required_car_parking_space</th>\n",
              "      <th>room_type_reserved</th>\n",
              "      <th>lead_time</th>\n",
              "      <th>arrival_year</th>\n",
              "      <th>...</th>\n",
              "      <th>room_type_reserved_Room_Type 3</th>\n",
              "      <th>room_type_reserved_Room_Type 4</th>\n",
              "      <th>room_type_reserved_Room_Type 5</th>\n",
              "      <th>room_type_reserved_Room_Type 6</th>\n",
              "      <th>room_type_reserved_Room_Type 7</th>\n",
              "      <th>market_segment_type_Aviation</th>\n",
              "      <th>market_segment_type_Complementary</th>\n",
              "      <th>market_segment_type_Corporate</th>\n",
              "      <th>market_segment_type_Offline</th>\n",
              "      <th>market_segment_type_Online</th>\n",
              "    </tr>\n",
              "  </thead>\n",
              "  <tbody>\n",
              "    <tr>\n",
              "      <th>0</th>\n",
              "      <td>25629</td>\n",
              "      <td>2</td>\n",
              "      <td>1</td>\n",
              "      <td>2</td>\n",
              "      <td>1</td>\n",
              "      <td>Meal Plan 1</td>\n",
              "      <td>0.0</td>\n",
              "      <td>Room_Type 1</td>\n",
              "      <td>26</td>\n",
              "      <td>2017</td>\n",
              "      <td>...</td>\n",
              "      <td>0.0</td>\n",
              "      <td>0.0</td>\n",
              "      <td>0.0</td>\n",
              "      <td>0.0</td>\n",
              "      <td>0.0</td>\n",
              "      <td>0.0</td>\n",
              "      <td>0.0</td>\n",
              "      <td>0.0</td>\n",
              "      <td>0.0</td>\n",
              "      <td>1.0</td>\n",
              "    </tr>\n",
              "    <tr>\n",
              "      <th>1</th>\n",
              "      <td>14473</td>\n",
              "      <td>2</td>\n",
              "      <td>1</td>\n",
              "      <td>1</td>\n",
              "      <td>1</td>\n",
              "      <td>Meal Plan 1</td>\n",
              "      <td>0.0</td>\n",
              "      <td>Room_Type 1</td>\n",
              "      <td>98</td>\n",
              "      <td>2018</td>\n",
              "      <td>...</td>\n",
              "      <td>0.0</td>\n",
              "      <td>0.0</td>\n",
              "      <td>0.0</td>\n",
              "      <td>0.0</td>\n",
              "      <td>0.0</td>\n",
              "      <td>0.0</td>\n",
              "      <td>0.0</td>\n",
              "      <td>0.0</td>\n",
              "      <td>0.0</td>\n",
              "      <td>1.0</td>\n",
              "    </tr>\n",
              "    <tr>\n",
              "      <th>2</th>\n",
              "      <td>23720</td>\n",
              "      <td>2</td>\n",
              "      <td>0</td>\n",
              "      <td>0</td>\n",
              "      <td>3</td>\n",
              "      <td>Meal Plan 1</td>\n",
              "      <td>0.0</td>\n",
              "      <td>Room_Type 1</td>\n",
              "      <td>433</td>\n",
              "      <td>2018</td>\n",
              "      <td>...</td>\n",
              "      <td>0.0</td>\n",
              "      <td>0.0</td>\n",
              "      <td>0.0</td>\n",
              "      <td>0.0</td>\n",
              "      <td>0.0</td>\n",
              "      <td>0.0</td>\n",
              "      <td>0.0</td>\n",
              "      <td>0.0</td>\n",
              "      <td>1.0</td>\n",
              "      <td>0.0</td>\n",
              "    </tr>\n",
              "    <tr>\n",
              "      <th>3</th>\n",
              "      <td>5843</td>\n",
              "      <td>2</td>\n",
              "      <td>0</td>\n",
              "      <td>2</td>\n",
              "      <td>5</td>\n",
              "      <td>Meal Plan 1</td>\n",
              "      <td>0.0</td>\n",
              "      <td>Room_Type 1</td>\n",
              "      <td>195</td>\n",
              "      <td>2018</td>\n",
              "      <td>...</td>\n",
              "      <td>0.0</td>\n",
              "      <td>0.0</td>\n",
              "      <td>0.0</td>\n",
              "      <td>0.0</td>\n",
              "      <td>0.0</td>\n",
              "      <td>0.0</td>\n",
              "      <td>0.0</td>\n",
              "      <td>0.0</td>\n",
              "      <td>1.0</td>\n",
              "      <td>0.0</td>\n",
              "    </tr>\n",
              "    <tr>\n",
              "      <th>4</th>\n",
              "      <td>18709</td>\n",
              "      <td>1</td>\n",
              "      <td>0</td>\n",
              "      <td>0</td>\n",
              "      <td>2</td>\n",
              "      <td>Meal Plan 1</td>\n",
              "      <td>0.0</td>\n",
              "      <td>Room_Type 1</td>\n",
              "      <td>188</td>\n",
              "      <td>2018</td>\n",
              "      <td>...</td>\n",
              "      <td>0.0</td>\n",
              "      <td>0.0</td>\n",
              "      <td>0.0</td>\n",
              "      <td>0.0</td>\n",
              "      <td>0.0</td>\n",
              "      <td>0.0</td>\n",
              "      <td>0.0</td>\n",
              "      <td>0.0</td>\n",
              "      <td>1.0</td>\n",
              "      <td>0.0</td>\n",
              "    </tr>\n",
              "  </tbody>\n",
              "</table>\n",
              "<p>5 rows × 34 columns</p>\n",
              "</div>"
            ],
            "text/plain": [
              "   index  no_of_adults  no_of_children  no_of_weekend_nights  \\\n",
              "0  25629             2               1                     2   \n",
              "1  14473             2               1                     1   \n",
              "2  23720             2               0                     0   \n",
              "3   5843             2               0                     2   \n",
              "4  18709             1               0                     0   \n",
              "\n",
              "   no_of_week_nights type_of_meal_plan  required_car_parking_space  \\\n",
              "0                  1       Meal Plan 1                         0.0   \n",
              "1                  1       Meal Plan 1                         0.0   \n",
              "2                  3       Meal Plan 1                         0.0   \n",
              "3                  5       Meal Plan 1                         0.0   \n",
              "4                  2       Meal Plan 1                         0.0   \n",
              "\n",
              "  room_type_reserved  lead_time  arrival_year  ...  \\\n",
              "0        Room_Type 1         26          2017  ...   \n",
              "1        Room_Type 1         98          2018  ...   \n",
              "2        Room_Type 1        433          2018  ...   \n",
              "3        Room_Type 1        195          2018  ...   \n",
              "4        Room_Type 1        188          2018  ...   \n",
              "\n",
              "   room_type_reserved_Room_Type 3  room_type_reserved_Room_Type 4  \\\n",
              "0                             0.0                             0.0   \n",
              "1                             0.0                             0.0   \n",
              "2                             0.0                             0.0   \n",
              "3                             0.0                             0.0   \n",
              "4                             0.0                             0.0   \n",
              "\n",
              "  room_type_reserved_Room_Type 5  room_type_reserved_Room_Type 6  \\\n",
              "0                            0.0                             0.0   \n",
              "1                            0.0                             0.0   \n",
              "2                            0.0                             0.0   \n",
              "3                            0.0                             0.0   \n",
              "4                            0.0                             0.0   \n",
              "\n",
              "   room_type_reserved_Room_Type 7  market_segment_type_Aviation  \\\n",
              "0                             0.0                           0.0   \n",
              "1                             0.0                           0.0   \n",
              "2                             0.0                           0.0   \n",
              "3                             0.0                           0.0   \n",
              "4                             0.0                           0.0   \n",
              "\n",
              "   market_segment_type_Complementary  market_segment_type_Corporate  \\\n",
              "0                                0.0                            0.0   \n",
              "1                                0.0                            0.0   \n",
              "2                                0.0                            0.0   \n",
              "3                                0.0                            0.0   \n",
              "4                                0.0                            0.0   \n",
              "\n",
              "   market_segment_type_Offline  market_segment_type_Online  \n",
              "0                          0.0                         1.0  \n",
              "1                          0.0                         1.0  \n",
              "2                          1.0                         0.0  \n",
              "3                          1.0                         0.0  \n",
              "4                          1.0                         0.0  \n",
              "\n",
              "[5 rows x 34 columns]"
            ]
          },
          "execution_count": 29,
          "metadata": {},
          "output_type": "execute_result"
        }
      ],
      "source": [
        "x_train_enc.head()"
      ]
    },
    {
      "cell_type": "code",
      "execution_count": 30,
      "metadata": {
        "colab": {
          "base_uri": "https://localhost:8080/",
          "height": 273
        },
        "id": "aspewIthJWaY",
        "outputId": "c9c3ed30-5cbf-451b-a90f-9b77e3ac4668"
      },
      "outputs": [
        {
          "data": {
            "text/html": [
              "<div>\n",
              "<style scoped>\n",
              "    .dataframe tbody tr th:only-of-type {\n",
              "        vertical-align: middle;\n",
              "    }\n",
              "\n",
              "    .dataframe tbody tr th {\n",
              "        vertical-align: top;\n",
              "    }\n",
              "\n",
              "    .dataframe thead th {\n",
              "        text-align: right;\n",
              "    }\n",
              "</style>\n",
              "<table border=\"1\" class=\"dataframe\">\n",
              "  <thead>\n",
              "    <tr style=\"text-align: right;\">\n",
              "      <th></th>\n",
              "      <th>index</th>\n",
              "      <th>no_of_adults</th>\n",
              "      <th>no_of_children</th>\n",
              "      <th>no_of_weekend_nights</th>\n",
              "      <th>no_of_week_nights</th>\n",
              "      <th>type_of_meal_plan</th>\n",
              "      <th>required_car_parking_space</th>\n",
              "      <th>room_type_reserved</th>\n",
              "      <th>lead_time</th>\n",
              "      <th>arrival_year</th>\n",
              "      <th>...</th>\n",
              "      <th>room_type_reserved_Room_Type 3</th>\n",
              "      <th>room_type_reserved_Room_Type 4</th>\n",
              "      <th>room_type_reserved_Room_Type 5</th>\n",
              "      <th>room_type_reserved_Room_Type 6</th>\n",
              "      <th>room_type_reserved_Room_Type 7</th>\n",
              "      <th>market_segment_type_Aviation</th>\n",
              "      <th>market_segment_type_Complementary</th>\n",
              "      <th>market_segment_type_Corporate</th>\n",
              "      <th>market_segment_type_Offline</th>\n",
              "      <th>market_segment_type_Online</th>\n",
              "    </tr>\n",
              "  </thead>\n",
              "  <tbody>\n",
              "    <tr>\n",
              "      <th>0</th>\n",
              "      <td>4968</td>\n",
              "      <td>2</td>\n",
              "      <td>1</td>\n",
              "      <td>1</td>\n",
              "      <td>0</td>\n",
              "      <td>Meal Plan 1</td>\n",
              "      <td>0.0</td>\n",
              "      <td>Room_Type 1</td>\n",
              "      <td>3</td>\n",
              "      <td>2017</td>\n",
              "      <td>...</td>\n",
              "      <td>0.0</td>\n",
              "      <td>0.0</td>\n",
              "      <td>0.0</td>\n",
              "      <td>0.0</td>\n",
              "      <td>0.0</td>\n",
              "      <td>0.0</td>\n",
              "      <td>0.0</td>\n",
              "      <td>0.0</td>\n",
              "      <td>0.0</td>\n",
              "      <td>1.0</td>\n",
              "    </tr>\n",
              "    <tr>\n",
              "      <th>1</th>\n",
              "      <td>34540</td>\n",
              "      <td>2</td>\n",
              "      <td>0</td>\n",
              "      <td>1</td>\n",
              "      <td>2</td>\n",
              "      <td>Meal Plan 1</td>\n",
              "      <td>0.0</td>\n",
              "      <td>Room_Type 4</td>\n",
              "      <td>9</td>\n",
              "      <td>2018</td>\n",
              "      <td>...</td>\n",
              "      <td>0.0</td>\n",
              "      <td>1.0</td>\n",
              "      <td>0.0</td>\n",
              "      <td>0.0</td>\n",
              "      <td>0.0</td>\n",
              "      <td>0.0</td>\n",
              "      <td>0.0</td>\n",
              "      <td>0.0</td>\n",
              "      <td>1.0</td>\n",
              "      <td>0.0</td>\n",
              "    </tr>\n",
              "    <tr>\n",
              "      <th>2</th>\n",
              "      <td>36108</td>\n",
              "      <td>2</td>\n",
              "      <td>0</td>\n",
              "      <td>2</td>\n",
              "      <td>2</td>\n",
              "      <td>Meal Plan 1</td>\n",
              "      <td>0.0</td>\n",
              "      <td>Room_Type 1</td>\n",
              "      <td>24</td>\n",
              "      <td>2018</td>\n",
              "      <td>...</td>\n",
              "      <td>0.0</td>\n",
              "      <td>0.0</td>\n",
              "      <td>0.0</td>\n",
              "      <td>0.0</td>\n",
              "      <td>0.0</td>\n",
              "      <td>0.0</td>\n",
              "      <td>0.0</td>\n",
              "      <td>0.0</td>\n",
              "      <td>0.0</td>\n",
              "      <td>1.0</td>\n",
              "    </tr>\n",
              "    <tr>\n",
              "      <th>3</th>\n",
              "      <td>1553</td>\n",
              "      <td>2</td>\n",
              "      <td>0</td>\n",
              "      <td>0</td>\n",
              "      <td>3</td>\n",
              "      <td>Meal Plan 1</td>\n",
              "      <td>0.0</td>\n",
              "      <td>Room_Type 1</td>\n",
              "      <td>23</td>\n",
              "      <td>2018</td>\n",
              "      <td>...</td>\n",
              "      <td>0.0</td>\n",
              "      <td>0.0</td>\n",
              "      <td>0.0</td>\n",
              "      <td>0.0</td>\n",
              "      <td>0.0</td>\n",
              "      <td>0.0</td>\n",
              "      <td>0.0</td>\n",
              "      <td>0.0</td>\n",
              "      <td>0.0</td>\n",
              "      <td>1.0</td>\n",
              "    </tr>\n",
              "    <tr>\n",
              "      <th>4</th>\n",
              "      <td>24974</td>\n",
              "      <td>2</td>\n",
              "      <td>1</td>\n",
              "      <td>0</td>\n",
              "      <td>2</td>\n",
              "      <td>Meal Plan 1</td>\n",
              "      <td>0.0</td>\n",
              "      <td>Room_Type 4</td>\n",
              "      <td>9</td>\n",
              "      <td>2018</td>\n",
              "      <td>...</td>\n",
              "      <td>0.0</td>\n",
              "      <td>1.0</td>\n",
              "      <td>0.0</td>\n",
              "      <td>0.0</td>\n",
              "      <td>0.0</td>\n",
              "      <td>0.0</td>\n",
              "      <td>0.0</td>\n",
              "      <td>0.0</td>\n",
              "      <td>0.0</td>\n",
              "      <td>1.0</td>\n",
              "    </tr>\n",
              "  </tbody>\n",
              "</table>\n",
              "<p>5 rows × 34 columns</p>\n",
              "</div>"
            ],
            "text/plain": [
              "   index  no_of_adults  no_of_children  no_of_weekend_nights  \\\n",
              "0   4968             2               1                     1   \n",
              "1  34540             2               0                     1   \n",
              "2  36108             2               0                     2   \n",
              "3   1553             2               0                     0   \n",
              "4  24974             2               1                     0   \n",
              "\n",
              "   no_of_week_nights type_of_meal_plan  required_car_parking_space  \\\n",
              "0                  0       Meal Plan 1                         0.0   \n",
              "1                  2       Meal Plan 1                         0.0   \n",
              "2                  2       Meal Plan 1                         0.0   \n",
              "3                  3       Meal Plan 1                         0.0   \n",
              "4                  2       Meal Plan 1                         0.0   \n",
              "\n",
              "  room_type_reserved  lead_time  arrival_year  ...  \\\n",
              "0        Room_Type 1          3          2017  ...   \n",
              "1        Room_Type 4          9          2018  ...   \n",
              "2        Room_Type 1         24          2018  ...   \n",
              "3        Room_Type 1         23          2018  ...   \n",
              "4        Room_Type 4          9          2018  ...   \n",
              "\n",
              "   room_type_reserved_Room_Type 3  room_type_reserved_Room_Type 4  \\\n",
              "0                             0.0                             0.0   \n",
              "1                             0.0                             1.0   \n",
              "2                             0.0                             0.0   \n",
              "3                             0.0                             0.0   \n",
              "4                             0.0                             1.0   \n",
              "\n",
              "  room_type_reserved_Room_Type 5  room_type_reserved_Room_Type 6  \\\n",
              "0                            0.0                             0.0   \n",
              "1                            0.0                             0.0   \n",
              "2                            0.0                             0.0   \n",
              "3                            0.0                             0.0   \n",
              "4                            0.0                             0.0   \n",
              "\n",
              "   room_type_reserved_Room_Type 7  market_segment_type_Aviation  \\\n",
              "0                             0.0                           0.0   \n",
              "1                             0.0                           0.0   \n",
              "2                             0.0                           0.0   \n",
              "3                             0.0                           0.0   \n",
              "4                             0.0                           0.0   \n",
              "\n",
              "   market_segment_type_Complementary  market_segment_type_Corporate  \\\n",
              "0                                0.0                            0.0   \n",
              "1                                0.0                            0.0   \n",
              "2                                0.0                            0.0   \n",
              "3                                0.0                            0.0   \n",
              "4                                0.0                            0.0   \n",
              "\n",
              "   market_segment_type_Offline  market_segment_type_Online  \n",
              "0                          0.0                         1.0  \n",
              "1                          1.0                         0.0  \n",
              "2                          0.0                         1.0  \n",
              "3                          0.0                         1.0  \n",
              "4                          0.0                         1.0  \n",
              "\n",
              "[5 rows x 34 columns]"
            ]
          },
          "execution_count": 30,
          "metadata": {},
          "output_type": "execute_result"
        }
      ],
      "source": [
        "x_test_enc.head()"
      ]
    },
    {
      "cell_type": "code",
      "execution_count": 31,
      "metadata": {
        "colab": {
          "base_uri": "https://localhost:8080/"
        },
        "id": "8GXnIAtIJsXJ",
        "outputId": "7105dd88-dae2-424d-8c26-26cee305d538"
      },
      "outputs": [
        {
          "data": {
            "text/plain": [
              "Index(['index', 'no_of_adults', 'no_of_children', 'no_of_weekend_nights',\n",
              "       'no_of_week_nights', 'type_of_meal_plan', 'required_car_parking_space',\n",
              "       'room_type_reserved', 'lead_time', 'arrival_year', 'arrival_month',\n",
              "       'arrival_date', 'market_segment_type', 'repeated_guest',\n",
              "       'no_of_previous_cancellations', 'no_of_previous_bookings_not_canceled',\n",
              "       'avg_price_per_room', 'no_of_special_requests',\n",
              "       'type_of_meal_plan_Meal Plan 1', 'type_of_meal_plan_Meal Plan 2',\n",
              "       'type_of_meal_plan_Meal Plan 3', 'type_of_meal_plan_Not Selected',\n",
              "       'room_type_reserved_Room_Type 1', 'room_type_reserved_Room_Type 2',\n",
              "       'room_type_reserved_Room_Type 3', 'room_type_reserved_Room_Type 4',\n",
              "       'room_type_reserved_Room_Type 5', 'room_type_reserved_Room_Type 6',\n",
              "       'room_type_reserved_Room_Type 7', 'market_segment_type_Aviation',\n",
              "       'market_segment_type_Complementary', 'market_segment_type_Corporate',\n",
              "       'market_segment_type_Offline', 'market_segment_type_Online'],\n",
              "      dtype='object')"
            ]
          },
          "execution_count": 31,
          "metadata": {},
          "output_type": "execute_result"
        }
      ],
      "source": [
        "x_train_enc.columns"
      ]
    },
    {
      "cell_type": "markdown",
      "metadata": {
        "id": "c3pmz5KMJzgG"
      },
      "source": [
        "define the features"
      ]
    },
    {
      "cell_type": "code",
      "execution_count": 32,
      "metadata": {
        "id": "Fqj02OmjJyd_"
      },
      "outputs": [],
      "source": [
        "x_train_enc=x_train_enc.drop(['index','type_of_meal_plan', 'room_type_reserved', 'market_segment_type'],axis=1)"
      ]
    },
    {
      "cell_type": "code",
      "execution_count": 33,
      "metadata": {
        "colab": {
          "base_uri": "https://localhost:8080/",
          "height": 273
        },
        "id": "PWpbfzydLj7A",
        "outputId": "f2b26c1c-2983-4f08-9bf0-1f2a73e551cc"
      },
      "outputs": [
        {
          "data": {
            "text/html": [
              "<div>\n",
              "<style scoped>\n",
              "    .dataframe tbody tr th:only-of-type {\n",
              "        vertical-align: middle;\n",
              "    }\n",
              "\n",
              "    .dataframe tbody tr th {\n",
              "        vertical-align: top;\n",
              "    }\n",
              "\n",
              "    .dataframe thead th {\n",
              "        text-align: right;\n",
              "    }\n",
              "</style>\n",
              "<table border=\"1\" class=\"dataframe\">\n",
              "  <thead>\n",
              "    <tr style=\"text-align: right;\">\n",
              "      <th></th>\n",
              "      <th>no_of_adults</th>\n",
              "      <th>no_of_children</th>\n",
              "      <th>no_of_weekend_nights</th>\n",
              "      <th>no_of_week_nights</th>\n",
              "      <th>required_car_parking_space</th>\n",
              "      <th>lead_time</th>\n",
              "      <th>arrival_year</th>\n",
              "      <th>arrival_month</th>\n",
              "      <th>arrival_date</th>\n",
              "      <th>repeated_guest</th>\n",
              "      <th>...</th>\n",
              "      <th>room_type_reserved_Room_Type 3</th>\n",
              "      <th>room_type_reserved_Room_Type 4</th>\n",
              "      <th>room_type_reserved_Room_Type 5</th>\n",
              "      <th>room_type_reserved_Room_Type 6</th>\n",
              "      <th>room_type_reserved_Room_Type 7</th>\n",
              "      <th>market_segment_type_Aviation</th>\n",
              "      <th>market_segment_type_Complementary</th>\n",
              "      <th>market_segment_type_Corporate</th>\n",
              "      <th>market_segment_type_Offline</th>\n",
              "      <th>market_segment_type_Online</th>\n",
              "    </tr>\n",
              "  </thead>\n",
              "  <tbody>\n",
              "    <tr>\n",
              "      <th>0</th>\n",
              "      <td>2</td>\n",
              "      <td>1</td>\n",
              "      <td>2</td>\n",
              "      <td>1</td>\n",
              "      <td>0.0</td>\n",
              "      <td>26</td>\n",
              "      <td>2017</td>\n",
              "      <td>10</td>\n",
              "      <td>17</td>\n",
              "      <td>0</td>\n",
              "      <td>...</td>\n",
              "      <td>0.0</td>\n",
              "      <td>0.0</td>\n",
              "      <td>0.0</td>\n",
              "      <td>0.0</td>\n",
              "      <td>0.0</td>\n",
              "      <td>0.0</td>\n",
              "      <td>0.0</td>\n",
              "      <td>0.0</td>\n",
              "      <td>0.0</td>\n",
              "      <td>1.0</td>\n",
              "    </tr>\n",
              "    <tr>\n",
              "      <th>1</th>\n",
              "      <td>2</td>\n",
              "      <td>1</td>\n",
              "      <td>1</td>\n",
              "      <td>1</td>\n",
              "      <td>0.0</td>\n",
              "      <td>98</td>\n",
              "      <td>2018</td>\n",
              "      <td>7</td>\n",
              "      <td>16</td>\n",
              "      <td>0</td>\n",
              "      <td>...</td>\n",
              "      <td>0.0</td>\n",
              "      <td>0.0</td>\n",
              "      <td>0.0</td>\n",
              "      <td>0.0</td>\n",
              "      <td>0.0</td>\n",
              "      <td>0.0</td>\n",
              "      <td>0.0</td>\n",
              "      <td>0.0</td>\n",
              "      <td>0.0</td>\n",
              "      <td>1.0</td>\n",
              "    </tr>\n",
              "    <tr>\n",
              "      <th>2</th>\n",
              "      <td>2</td>\n",
              "      <td>0</td>\n",
              "      <td>0</td>\n",
              "      <td>3</td>\n",
              "      <td>0.0</td>\n",
              "      <td>433</td>\n",
              "      <td>2018</td>\n",
              "      <td>9</td>\n",
              "      <td>8</td>\n",
              "      <td>0</td>\n",
              "      <td>...</td>\n",
              "      <td>0.0</td>\n",
              "      <td>0.0</td>\n",
              "      <td>0.0</td>\n",
              "      <td>0.0</td>\n",
              "      <td>0.0</td>\n",
              "      <td>0.0</td>\n",
              "      <td>0.0</td>\n",
              "      <td>0.0</td>\n",
              "      <td>1.0</td>\n",
              "      <td>0.0</td>\n",
              "    </tr>\n",
              "    <tr>\n",
              "      <th>3</th>\n",
              "      <td>2</td>\n",
              "      <td>0</td>\n",
              "      <td>2</td>\n",
              "      <td>5</td>\n",
              "      <td>0.0</td>\n",
              "      <td>195</td>\n",
              "      <td>2018</td>\n",
              "      <td>8</td>\n",
              "      <td>8</td>\n",
              "      <td>0</td>\n",
              "      <td>...</td>\n",
              "      <td>0.0</td>\n",
              "      <td>0.0</td>\n",
              "      <td>0.0</td>\n",
              "      <td>0.0</td>\n",
              "      <td>0.0</td>\n",
              "      <td>0.0</td>\n",
              "      <td>0.0</td>\n",
              "      <td>0.0</td>\n",
              "      <td>1.0</td>\n",
              "      <td>0.0</td>\n",
              "    </tr>\n",
              "    <tr>\n",
              "      <th>4</th>\n",
              "      <td>1</td>\n",
              "      <td>0</td>\n",
              "      <td>0</td>\n",
              "      <td>2</td>\n",
              "      <td>0.0</td>\n",
              "      <td>188</td>\n",
              "      <td>2018</td>\n",
              "      <td>6</td>\n",
              "      <td>15</td>\n",
              "      <td>0</td>\n",
              "      <td>...</td>\n",
              "      <td>0.0</td>\n",
              "      <td>0.0</td>\n",
              "      <td>0.0</td>\n",
              "      <td>0.0</td>\n",
              "      <td>0.0</td>\n",
              "      <td>0.0</td>\n",
              "      <td>0.0</td>\n",
              "      <td>0.0</td>\n",
              "      <td>1.0</td>\n",
              "      <td>0.0</td>\n",
              "    </tr>\n",
              "  </tbody>\n",
              "</table>\n",
              "<p>5 rows × 30 columns</p>\n",
              "</div>"
            ],
            "text/plain": [
              "   no_of_adults  no_of_children  no_of_weekend_nights  no_of_week_nights  \\\n",
              "0             2               1                     2                  1   \n",
              "1             2               1                     1                  1   \n",
              "2             2               0                     0                  3   \n",
              "3             2               0                     2                  5   \n",
              "4             1               0                     0                  2   \n",
              "\n",
              "   required_car_parking_space  lead_time  arrival_year  arrival_month  \\\n",
              "0                         0.0         26          2017             10   \n",
              "1                         0.0         98          2018              7   \n",
              "2                         0.0        433          2018              9   \n",
              "3                         0.0        195          2018              8   \n",
              "4                         0.0        188          2018              6   \n",
              "\n",
              "   arrival_date  repeated_guest  ...  room_type_reserved_Room_Type 3  \\\n",
              "0            17               0  ...                             0.0   \n",
              "1            16               0  ...                             0.0   \n",
              "2             8               0  ...                             0.0   \n",
              "3             8               0  ...                             0.0   \n",
              "4            15               0  ...                             0.0   \n",
              "\n",
              "   room_type_reserved_Room_Type 4  room_type_reserved_Room_Type 5  \\\n",
              "0                             0.0                             0.0   \n",
              "1                             0.0                             0.0   \n",
              "2                             0.0                             0.0   \n",
              "3                             0.0                             0.0   \n",
              "4                             0.0                             0.0   \n",
              "\n",
              "   room_type_reserved_Room_Type 6  room_type_reserved_Room_Type 7  \\\n",
              "0                             0.0                             0.0   \n",
              "1                             0.0                             0.0   \n",
              "2                             0.0                             0.0   \n",
              "3                             0.0                             0.0   \n",
              "4                             0.0                             0.0   \n",
              "\n",
              "   market_segment_type_Aviation  market_segment_type_Complementary  \\\n",
              "0                           0.0                                0.0   \n",
              "1                           0.0                                0.0   \n",
              "2                           0.0                                0.0   \n",
              "3                           0.0                                0.0   \n",
              "4                           0.0                                0.0   \n",
              "\n",
              "   market_segment_type_Corporate  market_segment_type_Offline  \\\n",
              "0                            0.0                          0.0   \n",
              "1                            0.0                          0.0   \n",
              "2                            0.0                          1.0   \n",
              "3                            0.0                          1.0   \n",
              "4                            0.0                          1.0   \n",
              "\n",
              "   market_segment_type_Online  \n",
              "0                         1.0  \n",
              "1                         1.0  \n",
              "2                         0.0  \n",
              "3                         0.0  \n",
              "4                         0.0  \n",
              "\n",
              "[5 rows x 30 columns]"
            ]
          },
          "execution_count": 33,
          "metadata": {},
          "output_type": "execute_result"
        }
      ],
      "source": [
        "x_train_enc.head()"
      ]
    },
    {
      "cell_type": "code",
      "execution_count": 34,
      "metadata": {
        "colab": {
          "base_uri": "https://localhost:8080/"
        },
        "id": "4hDLFHKzLucy",
        "outputId": "d487a13e-6622-4afc-acd3-98a74b2e8d6e"
      },
      "outputs": [
        {
          "data": {
            "text/plain": [
              "Index(['no_of_adults', 'no_of_children', 'no_of_weekend_nights',\n",
              "       'no_of_week_nights', 'required_car_parking_space', 'lead_time',\n",
              "       'arrival_year', 'arrival_month', 'arrival_date', 'repeated_guest',\n",
              "       'no_of_previous_cancellations', 'no_of_previous_bookings_not_canceled',\n",
              "       'avg_price_per_room', 'no_of_special_requests',\n",
              "       'type_of_meal_plan_Meal Plan 1', 'type_of_meal_plan_Meal Plan 2',\n",
              "       'type_of_meal_plan_Meal Plan 3', 'type_of_meal_plan_Not Selected',\n",
              "       'room_type_reserved_Room_Type 1', 'room_type_reserved_Room_Type 2',\n",
              "       'room_type_reserved_Room_Type 3', 'room_type_reserved_Room_Type 4',\n",
              "       'room_type_reserved_Room_Type 5', 'room_type_reserved_Room_Type 6',\n",
              "       'room_type_reserved_Room_Type 7', 'market_segment_type_Aviation',\n",
              "       'market_segment_type_Complementary', 'market_segment_type_Corporate',\n",
              "       'market_segment_type_Offline', 'market_segment_type_Online'],\n",
              "      dtype='object')"
            ]
          },
          "execution_count": 34,
          "metadata": {},
          "output_type": "execute_result"
        }
      ],
      "source": [
        "x_train_enc.columns"
      ]
    },
    {
      "cell_type": "code",
      "execution_count": 35,
      "metadata": {
        "colab": {
          "base_uri": "https://localhost:8080/",
          "height": 80
        },
        "id": "yA1hgqx1L8z6",
        "outputId": "684392ed-e889-40a5-a6c4-885e539d212e"
      },
      "outputs": [
        {
          "data": {
            "text/html": [
              "<style>#sk-container-id-1 {color: black;}#sk-container-id-1 pre{padding: 0;}#sk-container-id-1 div.sk-toggleable {background-color: white;}#sk-container-id-1 label.sk-toggleable__label {cursor: pointer;display: block;width: 100%;margin-bottom: 0;padding: 0.3em;box-sizing: border-box;text-align: center;}#sk-container-id-1 label.sk-toggleable__label-arrow:before {content: \"▸\";float: left;margin-right: 0.25em;color: #696969;}#sk-container-id-1 label.sk-toggleable__label-arrow:hover:before {color: black;}#sk-container-id-1 div.sk-estimator:hover label.sk-toggleable__label-arrow:before {color: black;}#sk-container-id-1 div.sk-toggleable__content {max-height: 0;max-width: 0;overflow: hidden;text-align: left;background-color: #f0f8ff;}#sk-container-id-1 div.sk-toggleable__content pre {margin: 0.2em;color: black;border-radius: 0.25em;background-color: #f0f8ff;}#sk-container-id-1 input.sk-toggleable__control:checked~div.sk-toggleable__content {max-height: 200px;max-width: 100%;overflow: auto;}#sk-container-id-1 input.sk-toggleable__control:checked~label.sk-toggleable__label-arrow:before {content: \"▾\";}#sk-container-id-1 div.sk-estimator input.sk-toggleable__control:checked~label.sk-toggleable__label {background-color: #d4ebff;}#sk-container-id-1 div.sk-label input.sk-toggleable__control:checked~label.sk-toggleable__label {background-color: #d4ebff;}#sk-container-id-1 input.sk-hidden--visually {border: 0;clip: rect(1px 1px 1px 1px);clip: rect(1px, 1px, 1px, 1px);height: 1px;margin: -1px;overflow: hidden;padding: 0;position: absolute;width: 1px;}#sk-container-id-1 div.sk-estimator {font-family: monospace;background-color: #f0f8ff;border: 1px dotted black;border-radius: 0.25em;box-sizing: border-box;margin-bottom: 0.5em;}#sk-container-id-1 div.sk-estimator:hover {background-color: #d4ebff;}#sk-container-id-1 div.sk-parallel-item::after {content: \"\";width: 100%;border-bottom: 1px solid gray;flex-grow: 1;}#sk-container-id-1 div.sk-label:hover label.sk-toggleable__label {background-color: #d4ebff;}#sk-container-id-1 div.sk-serial::before {content: \"\";position: absolute;border-left: 1px solid gray;box-sizing: border-box;top: 0;bottom: 0;left: 50%;z-index: 0;}#sk-container-id-1 div.sk-serial {display: flex;flex-direction: column;align-items: center;background-color: white;padding-right: 0.2em;padding-left: 0.2em;position: relative;}#sk-container-id-1 div.sk-item {position: relative;z-index: 1;}#sk-container-id-1 div.sk-parallel {display: flex;align-items: stretch;justify-content: center;background-color: white;position: relative;}#sk-container-id-1 div.sk-item::before, #sk-container-id-1 div.sk-parallel-item::before {content: \"\";position: absolute;border-left: 1px solid gray;box-sizing: border-box;top: 0;bottom: 0;left: 50%;z-index: -1;}#sk-container-id-1 div.sk-parallel-item {display: flex;flex-direction: column;z-index: 1;position: relative;background-color: white;}#sk-container-id-1 div.sk-parallel-item:first-child::after {align-self: flex-end;width: 50%;}#sk-container-id-1 div.sk-parallel-item:last-child::after {align-self: flex-start;width: 50%;}#sk-container-id-1 div.sk-parallel-item:only-child::after {width: 0;}#sk-container-id-1 div.sk-dashed-wrapped {border: 1px dashed gray;margin: 0 0.4em 0.5em 0.4em;box-sizing: border-box;padding-bottom: 0.4em;background-color: white;}#sk-container-id-1 div.sk-label label {font-family: monospace;font-weight: bold;display: inline-block;line-height: 1.2em;}#sk-container-id-1 div.sk-label-container {text-align: center;}#sk-container-id-1 div.sk-container {/* jupyter's `normalize.less` sets `[hidden] { display: none; }` but bootstrap.min.css set `[hidden] { display: none !important; }` so we also need the `!important` here to be able to override the default hidden behavior on the sphinx rendered scikit-learn.org. See: https://github.com/scikit-learn/scikit-learn/issues/21755 */display: inline-block !important;position: relative;}#sk-container-id-1 div.sk-text-repr-fallback {display: none;}</style><div id=\"sk-container-id-1\" class=\"sk-top-container\"><div class=\"sk-text-repr-fallback\"><pre>RandomForestClassifier(max_depth=4)</pre><b>In a Jupyter environment, please rerun this cell to show the HTML representation or trust the notebook. <br />On GitHub, the HTML representation is unable to render, please try loading this page with nbviewer.org.</b></div><div class=\"sk-container\" hidden><div class=\"sk-item\"><div class=\"sk-estimator sk-toggleable\"><input class=\"sk-toggleable__control sk-hidden--visually\" id=\"sk-estimator-id-1\" type=\"checkbox\" checked><label for=\"sk-estimator-id-1\" class=\"sk-toggleable__label sk-toggleable__label-arrow\">RandomForestClassifier</label><div class=\"sk-toggleable__content\"><pre>RandomForestClassifier(max_depth=4)</pre></div></div></div></div></div>"
            ],
            "text/plain": [
              "RandomForestClassifier(max_depth=4)"
            ]
          },
          "execution_count": 35,
          "metadata": {},
          "output_type": "execute_result"
        }
      ],
      "source": [
        "from sklearn.ensemble import RandomForestClassifier\n",
        "import warnings\n",
        "warnings.filterwarnings('ignore')\n",
        "\n",
        "RF_class = RandomForestClassifier(criterion= 'gini',max_depth=4)\n",
        "RF_class.fit(x_train_enc, y_train)"
      ]
    },
    {
      "cell_type": "code",
      "execution_count": 36,
      "metadata": {
        "id": "ds4PkqlkMDT9"
      },
      "outputs": [],
      "source": [
        "x_test_enc=x_test_enc.drop(['index','type_of_meal_plan', 'room_type_reserved', 'market_segment_type'],axis=1)"
      ]
    },
    {
      "cell_type": "code",
      "execution_count": 37,
      "metadata": {
        "id": "LbqjiZ9AMSaF"
      },
      "outputs": [],
      "source": [
        "y_predict=RF_class.predict(x_test_enc)"
      ]
    },
    {
      "cell_type": "code",
      "execution_count": 38,
      "metadata": {
        "colab": {
          "base_uri": "https://localhost:8080/"
        },
        "id": "vHzdQYZuMW4t",
        "outputId": "026b03d0-c670-46c8-bb11-907d4590d0a9"
      },
      "outputs": [
        {
          "name": "stdout",
          "output_type": "stream",
          "text": [
            "\n",
            "Classification Report\n",
            "\n",
            "              precision    recall  f1-score   support\n",
            "\n",
            "Not_Canceled       0.97      0.35      0.51      2416\n",
            "    Canceled       0.75      1.00      0.86      4839\n",
            "\n",
            "    accuracy                           0.78      7255\n",
            "   macro avg       0.86      0.67      0.68      7255\n",
            "weighted avg       0.83      0.78      0.74      7255\n",
            "\n"
          ]
        }
      ],
      "source": [
        "from sklearn.metrics import classification_report\n",
        "print('\\nClassification Report\\n')\n",
        "print(classification_report(y_test, y_predict, target_names=['Not_Canceled', 'Canceled']))"
      ]
    },
    {
      "cell_type": "markdown",
      "metadata": {
        "id": "ibsoErBhPyv7"
      },
      "source": [
        "karena xgboost harus numeric maka binary encoding pada y_train dan y_test"
      ]
    },
    {
      "cell_type": "code",
      "execution_count": 39,
      "metadata": {
        "colab": {
          "base_uri": "https://localhost:8080/",
          "height": 241
        },
        "id": "oJ93MkT5QN72",
        "outputId": "2541145b-d7ed-4441-d36f-296eb547d634"
      },
      "outputs": [
        {
          "data": {
            "text/plain": [
              "25629    Not_Canceled\n",
              "14473    Not_Canceled\n",
              "23720        Canceled\n",
              "5843     Not_Canceled\n",
              "18709        Canceled\n",
              "Name: booking_status, dtype: object"
            ]
          },
          "execution_count": 39,
          "metadata": {},
          "output_type": "execute_result"
        }
      ],
      "source": [
        "y_train.head()"
      ]
    },
    {
      "cell_type": "markdown",
      "metadata": {
        "id": "PH7w7xqhRJK6"
      },
      "source": [
        "xgboost label harus berupa numerik"
      ]
    },
    {
      "cell_type": "code",
      "execution_count": 40,
      "metadata": {
        "id": "xnbCJyN9QCCa"
      },
      "outputs": [],
      "source": [
        "ytrain_encode={\"Canceled\": 0, \"Not_Canceled\": 1}\n",
        "y_train = y_train.replace(ytrain_encode)\n",
        "y_test = y_test.replace(ytrain_encode)"
      ]
    },
    {
      "cell_type": "code",
      "execution_count": 41,
      "metadata": {
        "colab": {
          "base_uri": "https://localhost:8080/",
          "height": 241
        },
        "id": "jeI6Fb-0RgoZ",
        "outputId": "50d276e8-bc48-40d7-f199-416d1cf89159"
      },
      "outputs": [
        {
          "data": {
            "text/plain": [
              "25629    1\n",
              "14473    1\n",
              "23720    0\n",
              "5843     1\n",
              "18709    0\n",
              "Name: booking_status, dtype: int64"
            ]
          },
          "execution_count": 41,
          "metadata": {},
          "output_type": "execute_result"
        }
      ],
      "source": [
        "y_train.head()"
      ]
    },
    {
      "cell_type": "code",
      "execution_count": 42,
      "metadata": {
        "colab": {
          "base_uri": "https://localhost:8080/"
        },
        "id": "Lk6wZufWR_w5",
        "outputId": "540d0715-7035-4bab-abee-ff9c0cc65c30"
      },
      "outputs": [
        {
          "data": {
            "text/plain": [
              "{'Canceled': 0, 'Not_Canceled': 1}"
            ]
          },
          "execution_count": 42,
          "metadata": {},
          "output_type": "execute_result"
        }
      ],
      "source": [
        "ytrain_encode"
      ]
    },
    {
      "cell_type": "code",
      "execution_count": 43,
      "metadata": {
        "id": "K8bETdOuSBqP"
      },
      "outputs": [],
      "source": [
        "filename = 'booking_encode.pkl'\n",
        "pkl.dump(ytrain_encode, open(filename, 'wb'))"
      ]
    },
    {
      "cell_type": "code",
      "execution_count": 44,
      "metadata": {},
      "outputs": [],
      "source": [
        "#!pip install xgboost"
      ]
    },
    {
      "cell_type": "code",
      "execution_count": 45,
      "metadata": {
        "colab": {
          "base_uri": "https://localhost:8080/",
          "height": 254
        },
        "id": "svCaZ7s3NgqZ",
        "outputId": "a0e8646c-45ab-4f1e-cb4b-4d8cb2a479b9"
      },
      "outputs": [
        {
          "data": {
            "text/html": [
              "<style>#sk-container-id-2 {color: black;}#sk-container-id-2 pre{padding: 0;}#sk-container-id-2 div.sk-toggleable {background-color: white;}#sk-container-id-2 label.sk-toggleable__label {cursor: pointer;display: block;width: 100%;margin-bottom: 0;padding: 0.3em;box-sizing: border-box;text-align: center;}#sk-container-id-2 label.sk-toggleable__label-arrow:before {content: \"▸\";float: left;margin-right: 0.25em;color: #696969;}#sk-container-id-2 label.sk-toggleable__label-arrow:hover:before {color: black;}#sk-container-id-2 div.sk-estimator:hover label.sk-toggleable__label-arrow:before {color: black;}#sk-container-id-2 div.sk-toggleable__content {max-height: 0;max-width: 0;overflow: hidden;text-align: left;background-color: #f0f8ff;}#sk-container-id-2 div.sk-toggleable__content pre {margin: 0.2em;color: black;border-radius: 0.25em;background-color: #f0f8ff;}#sk-container-id-2 input.sk-toggleable__control:checked~div.sk-toggleable__content {max-height: 200px;max-width: 100%;overflow: auto;}#sk-container-id-2 input.sk-toggleable__control:checked~label.sk-toggleable__label-arrow:before {content: \"▾\";}#sk-container-id-2 div.sk-estimator input.sk-toggleable__control:checked~label.sk-toggleable__label {background-color: #d4ebff;}#sk-container-id-2 div.sk-label input.sk-toggleable__control:checked~label.sk-toggleable__label {background-color: #d4ebff;}#sk-container-id-2 input.sk-hidden--visually {border: 0;clip: rect(1px 1px 1px 1px);clip: rect(1px, 1px, 1px, 1px);height: 1px;margin: -1px;overflow: hidden;padding: 0;position: absolute;width: 1px;}#sk-container-id-2 div.sk-estimator {font-family: monospace;background-color: #f0f8ff;border: 1px dotted black;border-radius: 0.25em;box-sizing: border-box;margin-bottom: 0.5em;}#sk-container-id-2 div.sk-estimator:hover {background-color: #d4ebff;}#sk-container-id-2 div.sk-parallel-item::after {content: \"\";width: 100%;border-bottom: 1px solid gray;flex-grow: 1;}#sk-container-id-2 div.sk-label:hover label.sk-toggleable__label {background-color: #d4ebff;}#sk-container-id-2 div.sk-serial::before {content: \"\";position: absolute;border-left: 1px solid gray;box-sizing: border-box;top: 0;bottom: 0;left: 50%;z-index: 0;}#sk-container-id-2 div.sk-serial {display: flex;flex-direction: column;align-items: center;background-color: white;padding-right: 0.2em;padding-left: 0.2em;position: relative;}#sk-container-id-2 div.sk-item {position: relative;z-index: 1;}#sk-container-id-2 div.sk-parallel {display: flex;align-items: stretch;justify-content: center;background-color: white;position: relative;}#sk-container-id-2 div.sk-item::before, #sk-container-id-2 div.sk-parallel-item::before {content: \"\";position: absolute;border-left: 1px solid gray;box-sizing: border-box;top: 0;bottom: 0;left: 50%;z-index: -1;}#sk-container-id-2 div.sk-parallel-item {display: flex;flex-direction: column;z-index: 1;position: relative;background-color: white;}#sk-container-id-2 div.sk-parallel-item:first-child::after {align-self: flex-end;width: 50%;}#sk-container-id-2 div.sk-parallel-item:last-child::after {align-self: flex-start;width: 50%;}#sk-container-id-2 div.sk-parallel-item:only-child::after {width: 0;}#sk-container-id-2 div.sk-dashed-wrapped {border: 1px dashed gray;margin: 0 0.4em 0.5em 0.4em;box-sizing: border-box;padding-bottom: 0.4em;background-color: white;}#sk-container-id-2 div.sk-label label {font-family: monospace;font-weight: bold;display: inline-block;line-height: 1.2em;}#sk-container-id-2 div.sk-label-container {text-align: center;}#sk-container-id-2 div.sk-container {/* jupyter's `normalize.less` sets `[hidden] { display: none; }` but bootstrap.min.css set `[hidden] { display: none !important; }` so we also need the `!important` here to be able to override the default hidden behavior on the sphinx rendered scikit-learn.org. See: https://github.com/scikit-learn/scikit-learn/issues/21755 */display: inline-block !important;position: relative;}#sk-container-id-2 div.sk-text-repr-fallback {display: none;}</style><div id=\"sk-container-id-2\" class=\"sk-top-container\"><div class=\"sk-text-repr-fallback\"><pre>XGBClassifier(base_score=0.5, booster=&#x27;gbtree&#x27;, callbacks=None,\n",
              "              colsample_bylevel=1, colsample_bynode=1, colsample_bytree=1,\n",
              "              early_stopping_rounds=None, enable_categorical=False,\n",
              "              eval_metric=&#x27;mlogloss&#x27;, gamma=0, gpu_id=-1,\n",
              "              grow_policy=&#x27;depthwise&#x27;, importance_type=None,\n",
              "              interaction_constraints=&#x27;&#x27;, learning_rate=0.300000012,\n",
              "              max_bin=256, max_cat_to_onehot=4, max_delta_step=0, max_depth=6,\n",
              "              max_leaves=0, min_child_weight=1, missing=nan,\n",
              "              monotone_constraints=&#x27;()&#x27;, n_estimators=100, n_jobs=0,\n",
              "              num_parallel_tree=1, predictor=&#x27;auto&#x27;, random_state=0,\n",
              "              reg_alpha=0, reg_lambda=1, ...)</pre><b>In a Jupyter environment, please rerun this cell to show the HTML representation or trust the notebook. <br />On GitHub, the HTML representation is unable to render, please try loading this page with nbviewer.org.</b></div><div class=\"sk-container\" hidden><div class=\"sk-item\"><div class=\"sk-estimator sk-toggleable\"><input class=\"sk-toggleable__control sk-hidden--visually\" id=\"sk-estimator-id-2\" type=\"checkbox\" checked><label for=\"sk-estimator-id-2\" class=\"sk-toggleable__label sk-toggleable__label-arrow\">XGBClassifier</label><div class=\"sk-toggleable__content\"><pre>XGBClassifier(base_score=0.5, booster=&#x27;gbtree&#x27;, callbacks=None,\n",
              "              colsample_bylevel=1, colsample_bynode=1, colsample_bytree=1,\n",
              "              early_stopping_rounds=None, enable_categorical=False,\n",
              "              eval_metric=&#x27;mlogloss&#x27;, gamma=0, gpu_id=-1,\n",
              "              grow_policy=&#x27;depthwise&#x27;, importance_type=None,\n",
              "              interaction_constraints=&#x27;&#x27;, learning_rate=0.300000012,\n",
              "              max_bin=256, max_cat_to_onehot=4, max_delta_step=0, max_depth=6,\n",
              "              max_leaves=0, min_child_weight=1, missing=nan,\n",
              "              monotone_constraints=&#x27;()&#x27;, n_estimators=100, n_jobs=0,\n",
              "              num_parallel_tree=1, predictor=&#x27;auto&#x27;, random_state=0,\n",
              "              reg_alpha=0, reg_lambda=1, ...)</pre></div></div></div></div></div>"
            ],
            "text/plain": [
              "XGBClassifier(base_score=0.5, booster='gbtree', callbacks=None,\n",
              "              colsample_bylevel=1, colsample_bynode=1, colsample_bytree=1,\n",
              "              early_stopping_rounds=None, enable_categorical=False,\n",
              "              eval_metric='mlogloss', gamma=0, gpu_id=-1,\n",
              "              grow_policy='depthwise', importance_type=None,\n",
              "              interaction_constraints='', learning_rate=0.300000012,\n",
              "              max_bin=256, max_cat_to_onehot=4, max_delta_step=0, max_depth=6,\n",
              "              max_leaves=0, min_child_weight=1, missing=nan,\n",
              "              monotone_constraints='()', n_estimators=100, n_jobs=0,\n",
              "              num_parallel_tree=1, predictor='auto', random_state=0,\n",
              "              reg_alpha=0, reg_lambda=1, ...)"
            ]
          },
          "execution_count": 45,
          "metadata": {},
          "output_type": "execute_result"
        }
      ],
      "source": [
        "from xgboost import XGBClassifier\n",
        "xgb_model = XGBClassifier(use_label_encoder=False, eval_metric='mlogloss')\n",
        "xgb_model.fit(x_train_enc, y_train)"
      ]
    },
    {
      "cell_type": "code",
      "execution_count": 46,
      "metadata": {
        "id": "jrW_OWf2N0PG"
      },
      "outputs": [],
      "source": [
        "y_pred_xgb = xgb_model.predict(x_test_enc)"
      ]
    },
    {
      "cell_type": "code",
      "execution_count": 47,
      "metadata": {
        "colab": {
          "base_uri": "https://localhost:8080/"
        },
        "id": "W2XokF0JRxgx",
        "outputId": "73b70f7b-7535-4faf-c72c-7659bfa0bbe7"
      },
      "outputs": [
        {
          "name": "stdout",
          "output_type": "stream",
          "text": [
            "\n",
            "Classification Report\n",
            "\n",
            "              precision    recall  f1-score   support\n",
            "\n",
            "Not_Canceled       0.86      0.80      0.83      2416\n",
            "    Canceled       0.90      0.94      0.92      4839\n",
            "\n",
            "    accuracy                           0.89      7255\n",
            "   macro avg       0.88      0.87      0.87      7255\n",
            "weighted avg       0.89      0.89      0.89      7255\n",
            "\n"
          ]
        }
      ],
      "source": [
        "print('\\nClassification Report\\n')\n",
        "print(classification_report(y_test, y_pred_xgb, target_names=['Not_Canceled', 'Canceled']))"
      ]
    },
    {
      "cell_type": "markdown",
      "metadata": {
        "id": "zkCDG_4dS_YS"
      },
      "source": [
        "algoritma yang terbaik berupa xgboost"
      ]
    },
    {
      "cell_type": "code",
      "execution_count": 48,
      "metadata": {
        "id": "5fHy9GYtTVZ0"
      },
      "outputs": [],
      "source": [
        "filename = 'XGB_booking.pkl'\n",
        "pkl.dump(xgb_model, open(filename, 'wb'))"
      ]
    },
    {
      "cell_type": "markdown",
      "metadata": {
        "id": "GGYan6g0Uq3Q"
      },
      "source": [
        "Checking some features value for deployment"
      ]
    },
    {
      "cell_type": "code",
      "execution_count": 49,
      "metadata": {},
      "outputs": [
        {
          "data": {
            "text/plain": [
              "count    36275.000000\n",
              "mean        15.596995\n",
              "std          8.740447\n",
              "min          1.000000\n",
              "25%          8.000000\n",
              "50%         16.000000\n",
              "75%         23.000000\n",
              "max         31.000000\n",
              "Name: arrival_date, dtype: float64"
            ]
          },
          "execution_count": 49,
          "metadata": {},
          "output_type": "execute_result"
        }
      ],
      "source": [
        "df['arrival_date'].describe()"
      ]
    },
    {
      "cell_type": "code",
      "execution_count": 50,
      "metadata": {
        "colab": {
          "base_uri": "https://localhost:8080/",
          "height": 335
        },
        "id": "AfP0DADtU8lK",
        "outputId": "f26e1956-ee2d-47d9-a85e-67f1f5497feb"
      },
      "outputs": [
        {
          "data": {
            "text/plain": [
              "count    36275.000000\n",
              "mean         7.423653\n",
              "std          3.069894\n",
              "min          1.000000\n",
              "25%          5.000000\n",
              "50%          8.000000\n",
              "75%         10.000000\n",
              "max         12.000000\n",
              "Name: arrival_month, dtype: float64"
            ]
          },
          "execution_count": 50,
          "metadata": {},
          "output_type": "execute_result"
        }
      ],
      "source": [
        "df['arrival_month'].describe()"
      ]
    },
    {
      "cell_type": "code",
      "execution_count": 51,
      "metadata": {},
      "outputs": [
        {
          "data": {
            "text/plain": [
              "count    36275.000000\n",
              "mean      2017.820427\n",
              "std          0.383836\n",
              "min       2017.000000\n",
              "25%       2018.000000\n",
              "50%       2018.000000\n",
              "75%       2018.000000\n",
              "max       2018.000000\n",
              "Name: arrival_year, dtype: float64"
            ]
          },
          "execution_count": 51,
          "metadata": {},
          "output_type": "execute_result"
        }
      ],
      "source": [
        "df['arrival_year'].describe()"
      ]
    },
    {
      "cell_type": "code",
      "execution_count": 52,
      "metadata": {
        "colab": {
          "base_uri": "https://localhost:8080/",
          "height": 335
        },
        "id": "txAiWcHXUqPo",
        "outputId": "70f165ae-bb60-4bca-8905-4890a240a5f7"
      },
      "outputs": [
        {
          "data": {
            "text/plain": [
              "count    34643.000000\n",
              "mean       103.447208\n",
              "std         35.158417\n",
              "min          0.000000\n",
              "25%         80.300000\n",
              "50%         99.450000\n",
              "75%        120.275000\n",
              "max        540.000000\n",
              "Name: avg_price_per_room, dtype: float64"
            ]
          },
          "execution_count": 52,
          "metadata": {},
          "output_type": "execute_result"
        }
      ],
      "source": [
        "df['avg_price_per_room'].describe()"
      ]
    },
    {
      "cell_type": "code",
      "execution_count": 53,
      "metadata": {},
      "outputs": [
        {
          "data": {
            "text/plain": [
              "count            36275\n",
              "unique               2\n",
              "top       Not_Canceled\n",
              "freq             24390\n",
              "Name: booking_status, dtype: object"
            ]
          },
          "execution_count": 53,
          "metadata": {},
          "output_type": "execute_result"
        }
      ],
      "source": [
        "df['booking_status'].describe()"
      ]
    },
    {
      "cell_type": "code",
      "execution_count": 54,
      "metadata": {},
      "outputs": [
        {
          "data": {
            "text/plain": [
              "count      36275\n",
              "unique         5\n",
              "top       Online\n",
              "freq       23214\n",
              "Name: market_segment_type, dtype: object"
            ]
          },
          "execution_count": 54,
          "metadata": {},
          "output_type": "execute_result"
        }
      ],
      "source": [
        "df['market_segment_type'].describe()"
      ]
    },
    {
      "cell_type": "code",
      "execution_count": 55,
      "metadata": {},
      "outputs": [
        {
          "data": {
            "text/plain": [
              "count    36275.000000\n",
              "mean        85.232557\n",
              "std         85.930817\n",
              "min          0.000000\n",
              "25%         17.000000\n",
              "50%         57.000000\n",
              "75%        126.000000\n",
              "max        443.000000\n",
              "Name: lead_time, dtype: float64"
            ]
          },
          "execution_count": 55,
          "metadata": {},
          "output_type": "execute_result"
        }
      ],
      "source": [
        "df['lead_time'].describe()"
      ]
    },
    {
      "cell_type": "code",
      "execution_count": 56,
      "metadata": {
        "colab": {
          "base_uri": "https://localhost:8080/",
          "height": 335
        },
        "id": "oH0VKJ4xVGuS",
        "outputId": "12cbbb71-5344-476f-ea1a-8a226cfa3240"
      },
      "outputs": [
        {
          "data": {
            "text/plain": [
              "count    36275.000000\n",
              "mean         1.844962\n",
              "std          0.518715\n",
              "min          0.000000\n",
              "25%          2.000000\n",
              "50%          2.000000\n",
              "75%          2.000000\n",
              "max          4.000000\n",
              "Name: no_of_adults, dtype: float64"
            ]
          },
          "execution_count": 56,
          "metadata": {},
          "output_type": "execute_result"
        }
      ],
      "source": [
        "df['no_of_adults'].describe()"
      ]
    },
    {
      "cell_type": "code",
      "execution_count": 57,
      "metadata": {
        "colab": {
          "base_uri": "https://localhost:8080/",
          "height": 335
        },
        "id": "CuuoumMrV9qz",
        "outputId": "51e2c9d7-534c-485c-8d20-ef59725252a4"
      },
      "outputs": [
        {
          "data": {
            "text/plain": [
              "count    36275.000000\n",
              "mean         0.105279\n",
              "std          0.402648\n",
              "min          0.000000\n",
              "25%          0.000000\n",
              "50%          0.000000\n",
              "75%          0.000000\n",
              "max         10.000000\n",
              "Name: no_of_children, dtype: float64"
            ]
          },
          "execution_count": 57,
          "metadata": {},
          "output_type": "execute_result"
        }
      ],
      "source": [
        "df['no_of_children'].describe()"
      ]
    },
    {
      "cell_type": "code",
      "execution_count": 58,
      "metadata": {},
      "outputs": [
        {
          "data": {
            "text/plain": [
              "count    36275.000000\n",
              "mean         0.153411\n",
              "std          1.754171\n",
              "min          0.000000\n",
              "25%          0.000000\n",
              "50%          0.000000\n",
              "75%          0.000000\n",
              "max         58.000000\n",
              "Name: no_of_previous_bookings_not_canceled, dtype: float64"
            ]
          },
          "execution_count": 58,
          "metadata": {},
          "output_type": "execute_result"
        }
      ],
      "source": [
        "df['no_of_previous_bookings_not_canceled'].describe()"
      ]
    },
    {
      "cell_type": "code",
      "execution_count": 59,
      "metadata": {},
      "outputs": [
        {
          "data": {
            "text/plain": [
              "count    36275.000000\n",
              "mean         0.023349\n",
              "std          0.368331\n",
              "min          0.000000\n",
              "25%          0.000000\n",
              "50%          0.000000\n",
              "75%          0.000000\n",
              "max         13.000000\n",
              "Name: no_of_previous_cancellations, dtype: float64"
            ]
          },
          "execution_count": 59,
          "metadata": {},
          "output_type": "execute_result"
        }
      ],
      "source": [
        "df['no_of_previous_cancellations'].describe()"
      ]
    },
    {
      "cell_type": "code",
      "execution_count": 60,
      "metadata": {},
      "outputs": [
        {
          "data": {
            "text/plain": [
              "count    36275.000000\n",
              "mean         0.619655\n",
              "std          0.786236\n",
              "min          0.000000\n",
              "25%          0.000000\n",
              "50%          0.000000\n",
              "75%          1.000000\n",
              "max          5.000000\n",
              "Name: no_of_special_requests, dtype: float64"
            ]
          },
          "execution_count": 60,
          "metadata": {},
          "output_type": "execute_result"
        }
      ],
      "source": [
        "df['no_of_special_requests'].describe()"
      ]
    },
    {
      "cell_type": "code",
      "execution_count": 61,
      "metadata": {},
      "outputs": [
        {
          "data": {
            "text/plain": [
              "count    36275.000000\n",
              "mean         2.204300\n",
              "std          1.410905\n",
              "min          0.000000\n",
              "25%          1.000000\n",
              "50%          2.000000\n",
              "75%          3.000000\n",
              "max         17.000000\n",
              "Name: no_of_week_nights, dtype: float64"
            ]
          },
          "execution_count": 61,
          "metadata": {},
          "output_type": "execute_result"
        }
      ],
      "source": [
        "df['no_of_week_nights'].describe()"
      ]
    },
    {
      "cell_type": "code",
      "execution_count": 62,
      "metadata": {},
      "outputs": [
        {
          "data": {
            "text/plain": [
              "count    36275.000000\n",
              "mean         0.810724\n",
              "std          0.870644\n",
              "min          0.000000\n",
              "25%          0.000000\n",
              "50%          1.000000\n",
              "75%          2.000000\n",
              "max          7.000000\n",
              "Name: no_of_weekend_nights, dtype: float64"
            ]
          },
          "execution_count": 62,
          "metadata": {},
          "output_type": "execute_result"
        }
      ],
      "source": [
        "df['no_of_weekend_nights'].describe()"
      ]
    },
    {
      "cell_type": "code",
      "execution_count": 63,
      "metadata": {},
      "outputs": [
        {
          "data": {
            "text/plain": [
              "count    36275.000000\n",
              "mean         0.025637\n",
              "std          0.158053\n",
              "min          0.000000\n",
              "25%          0.000000\n",
              "50%          0.000000\n",
              "75%          0.000000\n",
              "max          1.000000\n",
              "Name: repeated_guest, dtype: float64"
            ]
          },
          "execution_count": 63,
          "metadata": {},
          "output_type": "execute_result"
        }
      ],
      "source": [
        "df['repeated_guest'].describe()"
      ]
    },
    {
      "cell_type": "code",
      "execution_count": 64,
      "metadata": {},
      "outputs": [
        {
          "data": {
            "text/plain": [
              "count    35005.000000\n",
              "mean         0.031281\n",
              "std          0.174079\n",
              "min          0.000000\n",
              "25%          0.000000\n",
              "50%          0.000000\n",
              "75%          0.000000\n",
              "max          1.000000\n",
              "Name: required_car_parking_space, dtype: float64"
            ]
          },
          "execution_count": 64,
          "metadata": {},
          "output_type": "execute_result"
        }
      ],
      "source": [
        "df['required_car_parking_space'].describe()"
      ]
    },
    {
      "cell_type": "code",
      "execution_count": 65,
      "metadata": {},
      "outputs": [
        {
          "data": {
            "text/plain": [
              "count           36275\n",
              "unique              7\n",
              "top       Room_Type 1\n",
              "freq            28130\n",
              "Name: room_type_reserved, dtype: object"
            ]
          },
          "execution_count": 65,
          "metadata": {},
          "output_type": "execute_result"
        }
      ],
      "source": [
        "df['room_type_reserved'].describe()"
      ]
    },
    {
      "cell_type": "code",
      "execution_count": 66,
      "metadata": {},
      "outputs": [
        {
          "data": {
            "text/plain": [
              "count           35368\n",
              "unique              4\n",
              "top       Meal Plan 1\n",
              "freq            27157\n",
              "Name: type_of_meal_plan, dtype: object"
            ]
          },
          "execution_count": 66,
          "metadata": {},
          "output_type": "execute_result"
        }
      ],
      "source": [
        "df['type_of_meal_plan'].describe()"
      ]
    },
    {
      "cell_type": "code",
      "execution_count": 67,
      "metadata": {},
      "outputs": [
        {
          "name": "stdout",
          "output_type": "stream",
          "text": [
            "# packages in environment at c:\\Users\\Khansa\\anaconda3:\n",
            "#\n",
            "# Name                    Version                   Build  Channel\n",
            "scikit-image              0.20.0          py311h3513d60_0  \n",
            "scikit-learn              1.3.2                    pypi_0    pypi\n",
            "scikit-learn-intelex      2023.1.1        py311haa95532_0  \n",
            "\n",
            "Note: you may need to restart the kernel to use updated packages.\n"
          ]
        }
      ],
      "source": [
        "conda list scikit"
      ]
    },
    {
      "cell_type": "code",
      "execution_count": 68,
      "metadata": {},
      "outputs": [
        {
          "name": "stdout",
          "output_type": "stream",
          "text": [
            "1.6.0\n"
          ]
        }
      ],
      "source": [
        "import xgboost\n",
        "print(xgboost.__version__)"
      ]
    },
    {
      "cell_type": "code",
      "execution_count": 69,
      "metadata": {},
      "outputs": [],
      "source": [
        "#!pip uninstall xgboost\n",
        "#%pip install xgboost==1.6.0"
      ]
    },
    {
      "cell_type": "code",
      "execution_count": 70,
      "metadata": {},
      "outputs": [],
      "source": [
        "#%pip install scikit-learn==1.0.2"
      ]
    }
  ],
  "metadata": {
    "colab": {
      "provenance": []
    },
    "kernelspec": {
      "display_name": "base",
      "language": "python",
      "name": "python3"
    },
    "language_info": {
      "codemirror_mode": {
        "name": "ipython",
        "version": 3
      },
      "file_extension": ".py",
      "mimetype": "text/x-python",
      "name": "python",
      "nbconvert_exporter": "python",
      "pygments_lexer": "ipython3",
      "version": "3.11.4"
    }
  },
  "nbformat": 4,
  "nbformat_minor": 0
}
